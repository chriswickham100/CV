{
 "cells": [
  {
   "cell_type": "markdown",
   "id": "e32d6672",
   "metadata": {},
   "source": [
    "### Python: An Object-Oriented Programming Language\n",
    "\n",
    "If you're an IBM data scientist, you will be familiar with a suite of tools for data analysis, including Excel, R, SAS, or Python. If you're coming straight from school, though, or have a background as a business analytics or data analyst, you may not be familiar with the concept of object-oriented programming. \n",
    "\n",
    "Python is an object-oriented programming (OOP) language, and the sooner you begin treating it as such, using its full capabilities in accordance with best practices, the sooner you'll become a flexible, powerful data scientist embedded within an IBM team. OOP is the reason that python, unlike R, SAS, or Excel, can do many things other than data analysis, and integrates well within, say, a team devoted to maintaining a web-based application, or within a cloud-based infrastructure. \n",
    "\n",
    "OOP means that pythonic code is best encapsualated within one of the following: classes, objects (or \"class instances\"), methods, and class attributes. Of these, the central concept is the class, and the sooner you become used to programming with classes, the better. "
   ]
  },
  {
   "cell_type": "markdown",
   "id": "f757d466",
   "metadata": {},
   "source": [
    "### What is a class? \n",
    "\n",
    "A class is a blueprint. When you \"instantiate\" a class, you create a new copy of that class called an object or \"class instance,\" often with methods (functions defined within the blueprint) and attributes. \n",
    "\n",
    "The following code defines a very simple class called SimpleClass, and the __init__ function, which is typically the first function defined within in the class, tells us how to create, or \"instantiate\", the class from that blueprint. In this case, we'll require a dataframe to instantiate the class, and then store that dataframe as an attribute of that class instance. \n",
    "\n",
    "*Note the documentation style, by the way. It may seem like overkill for code so simple, but clear documentation becomes critical when working within larger teams and on complex projects. Develop the habit of clearly documenting your code while you write it and both your teammates and future self will thank you.* "
   ]
  },
  {
   "cell_type": "code",
   "execution_count": 1,
   "id": "5e6fd367",
   "metadata": {},
   "outputs": [],
   "source": [
    "import pandas as pd\n",
    "\n",
    "class SimpleClass:\n",
    "    \"\"\"\n",
    "    SimpleClass defines a blueprint for a basic class function to hold a DataFrame. \n",
    "    \"\"\"\n",
    "    def __init__(self, df = pd.DataFrame):\n",
    "        \"\"\"\n",
    "        This function initiates the class, taking a Pandas dataframe as its argument.\n",
    "\n",
    "        Parameters\n",
    "        -------\n",
    "        df : pd.DataFrame\n",
    "            A dataframe defined prior to instantiation\n",
    "\n",
    "        Returns\n",
    "        -------\n",
    "            SimpleClass, a class instance which holds a dataframe. \n",
    "        \"\"\"\n",
    "        self.df = df\n",
    "        \n",
    "    def print_df(self, num_times = int) -> None: \n",
    "        \"\"\" \n",
    "        This function prints the df attributes a number of times to the console equal to \n",
    "        num_times\n",
    "        \n",
    "        Parameters\n",
    "        -------\n",
    "        num_times : int\n",
    "            The number of times you want to print the dataframe df.\n",
    "\n",
    "        Returns\n",
    "        -------\n",
    "        None - it prints the df num_times to the console \n",
    "        \"\"\"\n",
    "        for i in range(num_times): \n",
    "            print(self.df)"
   ]
  },
  {
   "cell_type": "code",
   "execution_count": 2,
   "id": "4f4a69eb",
   "metadata": {},
   "outputs": [
    {
     "name": "stdout",
     "output_type": "stream",
     "text": [
      "Printing the datataframe we constructed:\n",
      "   customer_id  amount\n",
      "0            1    1.00\n",
      "1            2    1.31\n",
      "2            3   20.50\n",
      "3            4    0.50\n",
      "4            5    0.20\n",
      "5            6    0.20\n",
      "6            7    1.20\n",
      "Printing the class attribute of simpleclass called df:\n",
      "    customer_id  amount\n",
      "0            1    1.00\n",
      "1            2    1.31\n",
      "2            3   20.50\n",
      "3            4    0.50\n",
      "4            5    0.20\n",
      "5            6    0.20\n",
      "6            7    1.20\n",
      "Calling the print_df method to print simpleclass.df three times: \n",
      "\n",
      "   customer_id  amount\n",
      "0            1    1.00\n",
      "1            2    1.31\n",
      "2            3   20.50\n",
      "3            4    0.50\n",
      "4            5    0.20\n",
      "5            6    0.20\n",
      "6            7    1.20\n",
      "   customer_id  amount\n",
      "0            1    1.00\n",
      "1            2    1.31\n",
      "2            3   20.50\n",
      "3            4    0.50\n",
      "4            5    0.20\n",
      "5            6    0.20\n",
      "6            7    1.20\n",
      "   customer_id  amount\n",
      "0            1    1.00\n",
      "1            2    1.31\n",
      "2            3   20.50\n",
      "3            4    0.50\n",
      "4            5    0.20\n",
      "5            6    0.20\n",
      "6            7    1.20\n"
     ]
    }
   ],
   "source": [
    "# Define a simple Pandas dataframe to store in the simple class\n",
    "\n",
    "df = pd.DataFrame(\n",
    "    {\n",
    "        \"customer_id\": [1, 2, 3, 4, 5, 6, 7],\n",
    "        \"amount\": [1.00, 1.31, 20.5, 0.5, 0.2, 0.2,1.2]\n",
    "    }\n",
    ")\n",
    "\n",
    "# Print the dataframe\n",
    "\n",
    "print(f\"Printing the datataframe we constructed:\\n{df}\")\n",
    "\n",
    "# Instantiate the SimpleClass, using df as the argument for the __init__ function\n",
    "\n",
    "simpleclass = SimpleClass(df)\n",
    "\n",
    "# print the SimpleClass dataframe \n",
    "\n",
    "print(f\"Printing the class attribute of simpleclass called df:\\n\",simpleclass.df)\n",
    "\n",
    "# Call the print_df method to print simpleclass.df three times\n",
    "\n",
    "print(f\"Calling the print_df method to print simpleclass.df three times: \\n\")\n",
    "simpleclass.print_df(3)"
   ]
  },
  {
   "cell_type": "markdown",
   "id": "76b9a2d6",
   "metadata": {},
   "source": [
    "Ensure that you understand every line of the code above. Try the following steps to adapt the class and make it your own. You will likely need to look on the Internet for new python packages to import for at least some of these: \n",
    "\n",
    "1. Add a new argument to the init function that stores the curent time at insantiation as an instance attribute and call it with the function \n",
    "2. Create a new dataframe and use it to create a new class instance. \n",
    "3. Add a new method to the class, add_column, that takes a numpy array as an argument and adds it as a column to the simpleclass.df . You can use this column, or create your own: *product_id = [34,23,54,76,43,23,45]*"
   ]
  },
  {
   "cell_type": "markdown",
   "id": "5346a337",
   "metadata": {},
   "source": [
    "### OOP Principles \n",
    "\n",
    "You've been introduced to the basic idea and syntax of a class and function. These concepts will become routine, even ingrained as you progress as a data scientist. Just keep reminding yourself to stick to OOP, and avoid the lazy but ultimately much less flexible and scalable route of developing one-off scripts for analysis, rather than packaging analyses into functions and classes. \n",
    "\n",
    "In the long-term, these are some of the benefits of sticking to OOP: \n",
    "\n",
    "#### 1. Encapsulation. \n",
    "\n",
    "This means that all important information is contained inside an object and only select information is exposed. The implementation and state of each object are privately held inside a defined class. Other objects do not have access to this class or the authority to make changes. They are only able to call a list of public functions or methods. \n",
    "\n",
    "*Why does it matter?* \n",
    "\n",
    "This features improves security, prevents objects from being changed without permission), and allows for objects to be more easily exported throughout an application with attributes intact. \n",
    "\n",
    "#### 2. Abstraction. \n",
    "\n",
    "Objects only reveal internal mechanisms that are relevant for the use of other objects, hiding any unnecessary implementation code. The derived class can have its functionality extended. \n",
    "\n",
    "*Why does it matter?* \n",
    "\n",
    "This concept can help developers more easily make additional changes or additions over time. If you need to add a simple method or attribute to class or class instance, you don't have to rewrite everythng from scratch. \n",
    "\n",
    "#### 3. Inheritance \n",
    "\n",
    "This is a more advanced topic, but suffice to say taht classes can reuse code from other classes, within some classes (\"subclasses\") defined as more specialized blueprints within larger classes (\"superclasses\"). You might envision this as one class giving an blueprint for creating a car (engine, four wheels, windshield etc.), with multiple sub-classes giving blueprints for cars of different styles, engine types, etc. Relationships and subclasses between objects can be assigned, enabling developers to reuse common logic while still maintaining a unique hierarchy. \n",
    "\n",
    "*Why does it matter?* \n",
    "\n",
    "As with abstraction, this concept saves develpment time. It also forces a more thorough data analysis, reduces development time and ensures a higher level of accuracy.\n",
    "\n",
    "#### 4. Polymorphism \n",
    "\n",
    "Objects are designed to share behaviors and they can take on more than one form. The program will determine which meaning or usage is necessary for each execution of that object from a parent class, reducing the need to duplicate code. A child class is then created, which extends the functionality of the parent class. Polymorphism allows different types of objects to pass through the same interface.\n",
    "\n",
    "*Why does it matter?* \n",
    "\n",
    "Polymorphism is a fancy word for \"flexibility.\" You'll find, as a data scientist, that once you've created the analysis part of your code, increasing its flexibility is the key to scaling it, and polymorphism helps. "
   ]
  },
  {
   "cell_type": "markdown",
   "id": "2500b1ba",
   "metadata": {},
   "source": [
    "#### Advanced Topics\n",
    "\n",
    "There are any number of advanced topics I could cover for OOP, but here I'll just address a few that often trip new developers up. I'll keep adding to these as I continue to teach the class. \n",
    "\n",
    "#### Decorators\n",
    "\n",
    "The first is **decorators**. Seeing an @ in the codebase seems to freak a lot of new data scientists out, but there's a simple explanation for it. A decorator function is a function that adds functionality to a pre-defined function. Ussually, they're relatively simple, for logging or aesthetic purposes, hence the name.\n",
    "\n",
    "As above with the concept of a class, I'll show the syntax for a very simple example, and you can take it from there. "
   ]
  },
  {
   "cell_type": "code",
   "execution_count": 3,
   "id": "02d7b8ee",
   "metadata": {},
   "outputs": [
    {
     "name": "stdout",
     "output_type": "stream",
     "text": [
      "You executed the function printer at 12:50:35\n",
      "I'm running the printer function now.\n",
      "Finished execution\n"
     ]
    }
   ],
   "source": [
    "#Importing datetime to tell current time \n",
    "from datetime import datetime\n",
    "\n",
    "#Defining the decorator function\n",
    "def display_info(func):\n",
    "    def inner(): \n",
    "        # Adding the functionality \n",
    "        print(\"You executed the function\", func.__name__, \"at\", datetime.now().strftime(\"%H:%M:%S\"))\n",
    "        func()\n",
    "        print(\"Finished execution\")\n",
    "    return inner\n",
    "\n",
    "# Apply a decorate function with the @\n",
    "@display_info\n",
    "# Define the function to be decorated\n",
    "def printer() -> None: \n",
    "    \"\"\"\n",
    "    A simple printing function\n",
    "\n",
    "        Parameters\n",
    "        -------\n",
    "        None\n",
    "\n",
    "        Returns\n",
    "        -------\n",
    "        None - prints a message to the console\n",
    "   \"\"\"\n",
    "    print(\"I'm running the printer function now.\")\n",
    "    \n",
    "printer()"
   ]
  },
  {
   "cell_type": "markdown",
   "id": "0a99c4c3",
   "metadata": {},
   "source": [
    "#### Class attributes versus instance attributes \n",
    "\n",
    "Class attributes are part of the blueprint. They are *not* defined with the \"self.\" prefix in the definition of the class. If you change a class attribute and reinstantiate the class, the class attribute will stay the same and be reflected in the new instance. \n",
    "\n",
    "Instance attributes are part of the instance, i.e., an object created from the blueprint. They *are* defined with the \"self.\" prefix and in the __init__ function. If you chance an instance attribute, it will only be reflected in that instance, and no in a new instnace of the class. \n",
    "\n",
    "For example, let's alter the SimpleClass slightly to add an instance attribute and a class attribute: "
   ]
  },
  {
   "cell_type": "code",
   "execution_count": 12,
   "id": "4b2eab69",
   "metadata": {},
   "outputs": [],
   "source": [
    "import pandas as pd\n",
    "\n",
    "class SimpleClass:\n",
    "    \"\"\"\n",
    "    SimpleClass defines a blueprint for a basic class function to hold a DataFrame. \n",
    "    \"\"\"\n",
    "    \n",
    "    class_attribute = \"This is the class secret.\"\n",
    "    \n",
    "    def __init__(self, df = pd.DataFrame):\n",
    "        \"\"\"\n",
    "        This function initiates the class, taking a Pandas dataframe as its argument.\n",
    "\n",
    "        Parameters\n",
    "        -------\n",
    "        df : pd.DataFrame\n",
    "            A dataframe defined prior to instantiation\n",
    "\n",
    "        Returns\n",
    "        -------\n",
    "            SimpleClass, a class instance which holds a dataframe. \n",
    "        \"\"\"\n",
    "        self.df = df\n",
    "        \n",
    "        self.instance_attribute = \"This is specific to the instance.\"\n",
    "        \n",
    "        \n",
    "        \n",
    "    def print_df(self, num_times = int) -> None: \n",
    "        \"\"\" \n",
    "        This function prints the df attributes a number of times to the console equal to \n",
    "        num_times\n",
    "        \n",
    "        Parameters\n",
    "        -------\n",
    "        num_times : int\n",
    "            The number of times you want to print the dataframe df.\n",
    "\n",
    "        Returns\n",
    "        -------\n",
    "        None - it prints the df num_times to the console \n",
    "        \"\"\"\n",
    "        for i in range(num_times): \n",
    "            print(self.df)"
   ]
  },
  {
   "cell_type": "code",
   "execution_count": 13,
   "id": "51862cfe",
   "metadata": {},
   "outputs": [
    {
     "name": "stdout",
     "output_type": "stream",
     "text": [
      "This is the instance attribute for simple_class1:\n",
      "    customer_id  amount\n",
      "0            1    1.00\n",
      "1            2    1.31\n",
      "2            3   20.50\n",
      "3            4    0.50\n",
      "4            5    0.20\n",
      "5            6    0.20\n",
      "6            7    1.20\n",
      "This is the class attribute for simple_class1:\n",
      " This is the class secret.\n"
     ]
    }
   ],
   "source": [
    "# Instantiating the class: \n",
    "simple_class1 = SimpleClass(df)\n",
    "print(f\"This is the instance attribute for simple_class1:\\n {simple_class1.df}\")\n",
    "print(f\"This is the class attribute for simple_class1:\\n {simple_class1.class_attribute}\")"
   ]
  },
  {
   "cell_type": "markdown",
   "id": "9408266a",
   "metadata": {},
   "source": [
    "To show how class and instance attributes change, let's define a new instance attribute and a new class attribute for both df and class_attribute, using simple_class1. Then let's instantiate a new class, simple_class2, and see which change persisted through a new instantiation: "
   ]
  },
  {
   "cell_type": "code",
   "execution_count": 21,
   "id": "04170abf",
   "metadata": {},
   "outputs": [
    {
     "name": "stdout",
     "output_type": "stream",
     "text": [
      "This is the instance attribute for simple_class1:\n",
      "    customer_id  amount\n",
      "0            8    1.00\n",
      "1            9    1.31\n",
      "2           10   20.50\n",
      "3           11    0.50\n",
      "4           12    0.20\n",
      "5           13    0.20\n",
      "6           14    1.20\n",
      "This is the class attribute for simple_class1:\n",
      " The class secret has been changed!\n"
     ]
    }
   ],
   "source": [
    "# Changing df\n",
    "simple_class1.df = pd.DataFrame(\n",
    "    {\n",
    "        \"customer_id\": [8, 9, 10, 11, 12, 13, 14],\n",
    "        \"amount\": [1.00, 1.31, 20.5, 0.5, 0.2, 0.2,1.2]\n",
    "    }\n",
    ")\n",
    "\n",
    "# Changing class attribute using SimpleClass\n",
    "SimpleClass.class_attribute = \"The class secret has been changed!\"\n",
    "\n",
    "print(f\"This is the instance attribute for simple_class1:\\n {simple_class1.df}\")\n",
    "print(f\"This is the class attribute for simple_class1:\\n {simple_class1.class_attribute}\")"
   ]
  },
  {
   "cell_type": "code",
   "execution_count": 22,
   "id": "344f57be",
   "metadata": {},
   "outputs": [
    {
     "name": "stdout",
     "output_type": "stream",
     "text": [
      "This is the instance attribute for simple_class2:\n",
      "    customer_id  amount\n",
      "0            1    1.00\n",
      "1            2    1.31\n",
      "2            3   20.50\n",
      "3            4    0.50\n",
      "4            5    0.20\n",
      "5            6    0.20\n",
      "6            7    1.20\n",
      "This is the class attribute for simple_class2:\n",
      " The class secret has been changed!\n"
     ]
    }
   ],
   "source": [
    "# Instantiating a new class instance: simple_class2\n",
    "simple_class2 = SimpleClass(df)\n",
    "\n",
    "print(f\"This is the instance attribute for simple_class2:\\n {simple_class2.df}\")\n",
    "print(f\"This is the class attribute for simple_class2:\\n {simple_class2.class_attribute}\")"
   ]
  },
  {
   "cell_type": "markdown",
   "id": "2968c8da",
   "metadata": {},
   "source": [
    "The most likely place you'll run into this when you're trying to change an instance attribute or class attribute and you're using the opposite syntax. Just be mindful of where you're defining attributes and whether you're using __self.__ prefix or not, and you'll be fine. "
   ]
  },
  {
   "cell_type": "markdown",
   "id": "fa3f2469",
   "metadata": {},
   "source": [
    "#### Inheritance "
   ]
  },
  {
   "cell_type": "markdown",
   "id": "3fc025a6",
   "metadata": {},
   "source": [
    "Finally, I did briefly want to touch on the syntax for inheritance. As I noted above, inheritance is incredibly useful for classes. \n",
    "\n",
    "Here is the basic syntactical pattern for a \"super-class\" and sub-class: \n",
    "\n",
    "__class BaseClass:__\n",
    "      \n",
    "      Code defining base class\n",
    "      \n",
    "__class DerivedClass(BaseClass):__\n",
    "      \n",
    "      Body of derived class\n",
    "\n",
    "For example, let's use the class SimpleClass we've been working with, and create a derived class called ComplexClass. It will contain a new function that prints the column df with the column order and row order reversed: "
   ]
  },
  {
   "cell_type": "code",
   "execution_count": 41,
   "id": "6bf45f53",
   "metadata": {},
   "outputs": [],
   "source": [
    "class ComplexClass(SimpleClass): \n",
    "    def __init__(self,df): \n",
    "        SimpleClass.__init__(self,df)\n",
    "        \n",
    "    def reverse_df(self,num_times = int) -> None: \n",
    "        \"\"\" \n",
    "        This function reverses the df attribute of the instance\n",
    "        \n",
    "        Parameters\n",
    "        -------\n",
    "        num_times : int\n",
    "        The number of times you want to print the dataframe df.\n",
    "\n",
    "        Returns\n",
    "        -------\n",
    "        None - it reverses the df and prints the reversed df num_times to the console\n",
    "        \"\"\"\n",
    "        # Defining self.reversed_df as the reverse of self.df\n",
    "        self.reversed_df = self.df.loc[::-1,::-1]\n",
    "        # Printing it num_times to the console\n",
    "        for i in range(num_times): \n",
    "            print(self.reversed_df)"
   ]
  },
  {
   "cell_type": "code",
   "execution_count": 42,
   "id": "93ba3d70",
   "metadata": {},
   "outputs": [
    {
     "name": "stdout",
     "output_type": "stream",
     "text": [
      "   amount  customer_id\n",
      "6    1.20            7\n",
      "5    0.20            6\n",
      "4    0.20            5\n",
      "3    0.50            4\n",
      "2   20.50            3\n",
      "1    1.31            2\n",
      "0    1.00            1\n",
      "   amount  customer_id\n",
      "6    1.20            7\n",
      "5    0.20            6\n",
      "4    0.20            5\n",
      "3    0.50            4\n",
      "2   20.50            3\n",
      "1    1.31            2\n",
      "0    1.00            1\n"
     ]
    }
   ],
   "source": [
    "# Instantiating the new complex class\n",
    "complexclass = ComplexClass(df)\n",
    "\n",
    "# Executing the reverse_df method\n",
    "complexclass.reverse_df(2)"
   ]
  },
  {
   "cell_type": "markdown",
   "id": "2e446393",
   "metadata": {},
   "source": [
    "And that's enough of OOP for now! Developing OOP instincts is an important part of becoming a data scientist in any complex enterprise. Keep developing those skills and pushing yourself to package python within classes and functions, and you'll find the transition from a junior to a senior developer much easier. "
   ]
  }
 ],
 "metadata": {
  "kernelspec": {
   "display_name": "Python 3 (ipykernel)",
   "language": "python",
   "name": "python3"
  },
  "language_info": {
   "codemirror_mode": {
    "name": "ipython",
    "version": 3
   },
   "file_extension": ".py",
   "mimetype": "text/x-python",
   "name": "python",
   "nbconvert_exporter": "python",
   "pygments_lexer": "ipython3",
   "version": "3.9.12"
  }
 },
 "nbformat": 4,
 "nbformat_minor": 5
}
