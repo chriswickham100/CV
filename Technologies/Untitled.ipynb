{
 "cells": [
  {
   "cell_type": "markdown",
   "id": "f3b035f0",
   "metadata": {},
   "source": [
    "# Data Exploration, Data Cleaning, and Basic Data Visualization\n",
    "\n",
    "In the best of circumstances (e.g., when you're using sample datasets in school), your data will be clearly defined, devoid of missing values or type errors, and otherwise perfectly curated for you to import and begin working with. \n",
    "\n",
    "*In practice, this is almost never the case.* \n",
    "\n",
    "As a data scientist within a consulting team, you'll be expected to explore, deeply understand, and clean data before you conduct any analysis on it. According to Anaconda's 2021 State of Data Science survey, survey respondents said they spend “39% of their time on data prep and data cleansing, which is more than the time spent on model training, model selection, and deploying models combined.”\n",
    "\n",
    "In a data science-oriented engagement, you will often spend weeks collecting, analyzing, and curating data, then present a profile of that data to your client to ensure that the steps you've taken are acceptable before you even begin model development. \n",
    "\n",
    "This notebook contains code snippets for typical steps you might take to begin exploring a dataset and, once you understanding, cleaning it. In practice, though, data cleaning and exploration is among the best opportunities to improvise and apply your ingenuity and knowledge as a data scientist, so there's no set approach. It's also typically a time in your project when you would rely heavily of subject-matter experts (e.g., if you work with the FDA account, doctors or epidemiologists) to help intepret the data. "
   ]
  },
  {
   "cell_type": "markdown",
   "id": "7e983526",
   "metadata": {},
   "source": [
    "##### Pandas, Numpy, and MatPlotlib\n",
    "\n",
    "We'll be using Pandas and Numpy to clean and explore this data, and for most of the other notebooks, and we'll be using Matplot lib to visualize it. The basic unit of Pandas is the \"dataframe\", an object of stores data sets from files (e.g., .csv files) into two-dimensional, tabular matrices. Pandas is the main library that data scientists use to manipulate data, and Numpy is a library with which Pandas is often paired for deeper scientific and mathetmical analyses. Matplotlib is used for visualization, and together, the libraries can accomplish the vast majority of data exploration, cleaning, and visualization tasks.\n",
    "\n",
    "Like elsewhere in this course, the key for using Pandas, Numpy, and Matplot correctly is *flexibility*. Try lots of things, see what works and what doesn't, and don't get fixed into a particular mindset or habit. Also, when you're beginning to optimized for performance down the road, note that Pandas dataframes require a relatively large amount of memory. It's often better to replace data transformations with SQL queries down the road after having conducted initial exploration in Pandas. \n",
    "\n",
    "Also note that data exploration, cleaning, and visualization is an ongoing process. In the notebooks for classification, regression, etc., you'll see lots of additional visualizations and explorations of features that are particularly releveant for that analysis. That's typical, becuase in practice, visualization and exploration of the data changes and adapts as the analytical needs of the project changes. "
   ]
  },
  {
   "cell_type": "markdown",
   "id": "14296d85",
   "metadata": {},
   "source": [
    "### Create a Numpy Array and show basic information"
   ]
  },
  {
   "cell_type": "markdown",
   "id": "b6feccf4",
   "metadata": {},
   "source": [
    "The following script creates an array and dataframe from scratch and shows code for printing basic information to the console: "
   ]
  },
  {
   "cell_type": "code",
   "execution_count": 1,
   "id": "a8de2eb0",
   "metadata": {},
   "outputs": [
    {
     "name": "stdout",
     "output_type": "stream",
     "text": [
      "<class 'numpy.ndarray'>\n"
     ]
    }
   ],
   "source": [
    "# Importing the numpy package\n",
    "import numpy as np\n",
    "\n",
    "# Create the array from a list\n",
    "data = [50,50,47,97,49,3,53,42,26,74,82,62,37,15,70,27,36,35,48,52,63,64]\n",
    "grades = np.array(data) \n",
    "\n",
    "# Finding the type of the array\n",
    "print(type(grades))"
   ]
  },
  {
   "cell_type": "code",
   "execution_count": 2,
   "id": "16d695dd",
   "metadata": {},
   "outputs": [
    {
     "name": "stdout",
     "output_type": "stream",
     "text": [
      "(22,)\n"
     ]
    }
   ],
   "source": [
    "# Finding the dimension of the array\n",
    "print(grades.shape)"
   ]
  },
  {
   "cell_type": "code",
   "execution_count": 3,
   "id": "f0a83fbf",
   "metadata": {},
   "outputs": [
    {
     "name": "stdout",
     "output_type": "stream",
     "text": [
      "50\n"
     ]
    }
   ],
   "source": [
    "# Finding the first entry of the array\n",
    "print(grades[0])"
   ]
  },
  {
   "cell_type": "code",
   "execution_count": 4,
   "id": "e00ec092",
   "metadata": {},
   "outputs": [
    {
     "name": "stdout",
     "output_type": "stream",
     "text": [
      "49.18181818181818\n"
     ]
    }
   ],
   "source": [
    "# Finding the mean of the array\n",
    "print(grades.mean())"
   ]
  },
  {
   "cell_type": "markdown",
   "id": "aa2a53e3",
   "metadata": {},
   "source": [
    "The following script combines two arrays into a multi-dimensional arrays and prints basic information to the console:m "
   ]
  },
  {
   "cell_type": "code",
   "execution_count": 5,
   "id": "fad8c999",
   "metadata": {},
   "outputs": [
    {
     "name": "stdout",
     "output_type": "stream",
     "text": [
      "(2, 22)\n"
     ]
    }
   ],
   "source": [
    "# Adding a second list to the array to create a two dimensional array\n",
    "study_hours = [10.0,11.5,9.0,16.0,9.25,1.0,11.5,9.0,8.5,14.5,15.5,\n",
    "               13.75,9.0,8.0,15.5,8.0,9.0,6.0,10.0,12.0,12.5,12.0]\n",
    "student_data = np.array([study_hours, grades])\n",
    "\n",
    "# Finding the dimensions of the array - as always, the results should be intepreted \"rows, colums\"\n",
    "print(student_data.shape)\n",
    "\n"
   ]
  },
  {
   "cell_type": "code",
   "execution_count": 6,
   "id": "f5863751",
   "metadata": {},
   "outputs": [
    {
     "name": "stdout",
     "output_type": "stream",
     "text": [
      "Average study hours: 10.52\n",
      "Average grade: 49.18\n"
     ]
    }
   ],
   "source": [
    "#Storying the mean for each row in the array\n",
    "avg_study = student_data[0].mean()\n",
    "avg_grade = student_data[1].mean()\n",
    "\n",
    "# Printing the results above to the console with formatting\n",
    "print('Average study hours: {:.2f}\\nAverage grade: {:.2f}'.format(avg_study, avg_grade))"
   ]
  },
  {
   "cell_type": "markdown",
   "id": "311b56b6",
   "metadata": {},
   "source": [
    "For more information as to the types of analyses you can conduct on numpy arrays, see this Numpy documentation [here](https://numpy.org/doc/). We'll be coming back to Numpy frequently. "
   ]
  },
  {
   "cell_type": "markdown",
   "id": "7a3db41a",
   "metadata": {},
   "source": [
    "### Create a DataFrame and filter using .loc, .iloc, query, and others"
   ]
  },
  {
   "cell_type": "markdown",
   "id": "55970097",
   "metadata": {},
   "source": [
    "The following code creates a dataframe and applies basic filters and queries to it. \n",
    "\n",
    "*Note: The difference between .loc and .iloc is that, counter-intuitively, .loc filters rows based on their index and .iloc filters rows based on their ordinal location within the dataframe. In general, it is more flexible and better practice to filter based on .loc* "
   ]
  },
  {
   "cell_type": "code",
   "execution_count": 7,
   "id": "c6e73da2",
   "metadata": {},
   "outputs": [
    {
     "data": {
      "text/html": [
       "<div>\n",
       "<style scoped>\n",
       "    .dataframe tbody tr th:only-of-type {\n",
       "        vertical-align: middle;\n",
       "    }\n",
       "\n",
       "    .dataframe tbody tr th {\n",
       "        vertical-align: top;\n",
       "    }\n",
       "\n",
       "    .dataframe thead th {\n",
       "        text-align: right;\n",
       "    }\n",
       "</style>\n",
       "<table border=\"1\" class=\"dataframe\">\n",
       "  <thead>\n",
       "    <tr style=\"text-align: right;\">\n",
       "      <th></th>\n",
       "      <th>Name</th>\n",
       "      <th>StudyHours</th>\n",
       "      <th>Grade</th>\n",
       "    </tr>\n",
       "  </thead>\n",
       "  <tbody>\n",
       "    <tr>\n",
       "      <th>0</th>\n",
       "      <td>Dan</td>\n",
       "      <td>10.00</td>\n",
       "      <td>50.0</td>\n",
       "    </tr>\n",
       "    <tr>\n",
       "      <th>1</th>\n",
       "      <td>Joann</td>\n",
       "      <td>11.50</td>\n",
       "      <td>50.0</td>\n",
       "    </tr>\n",
       "    <tr>\n",
       "      <th>2</th>\n",
       "      <td>Pedro</td>\n",
       "      <td>9.00</td>\n",
       "      <td>47.0</td>\n",
       "    </tr>\n",
       "    <tr>\n",
       "      <th>3</th>\n",
       "      <td>Rosie</td>\n",
       "      <td>16.00</td>\n",
       "      <td>97.0</td>\n",
       "    </tr>\n",
       "    <tr>\n",
       "      <th>4</th>\n",
       "      <td>Ethan</td>\n",
       "      <td>9.25</td>\n",
       "      <td>49.0</td>\n",
       "    </tr>\n",
       "  </tbody>\n",
       "</table>\n",
       "</div>"
      ],
      "text/plain": [
       "    Name  StudyHours  Grade\n",
       "0    Dan       10.00   50.0\n",
       "1  Joann       11.50   50.0\n",
       "2  Pedro        9.00   47.0\n",
       "3  Rosie       16.00   97.0\n",
       "4  Ethan        9.25   49.0"
      ]
     },
     "execution_count": 7,
     "metadata": {},
     "output_type": "execute_result"
    }
   ],
   "source": [
    "import pandas as pd\n",
    "\n",
    "df_students = pd.DataFrame({'Name': ['Dan', 'Joann', 'Pedro', 'Rosie', 'Ethan', 'Vicky', 'Frederic', 'Jimmie', \n",
    "                                     'Rhonda', 'Giovanni', 'Francesca', 'Rajab', 'Naiyana', 'Kian', 'Jenny',\n",
    "                                     'Jakeem','Helena','Ismat','Anila','Skye','Daniel','Aisha'],\n",
    "                            'StudyHours':student_data[0],\n",
    "                            'Grade':student_data[1]})\n",
    "\n",
    "df_students.head()"
   ]
  },
  {
   "cell_type": "code",
   "execution_count": 8,
   "id": "e7c4079d",
   "metadata": {},
   "outputs": [
    {
     "data": {
      "text/plain": [
       "Name          Vicky\n",
       "StudyHours      1.0\n",
       "Grade           3.0\n",
       "Name: 5, dtype: object"
      ]
     },
     "execution_count": 8,
     "metadata": {},
     "output_type": "execute_result"
    }
   ],
   "source": [
    "# Finding the row at index location 5\n",
    "df_students.loc[5]"
   ]
  },
  {
   "cell_type": "code",
   "execution_count": 9,
   "id": "0bc5cfd7",
   "metadata": {},
   "outputs": [
    {
     "data": {
      "text/html": [
       "<div>\n",
       "<style scoped>\n",
       "    .dataframe tbody tr th:only-of-type {\n",
       "        vertical-align: middle;\n",
       "    }\n",
       "\n",
       "    .dataframe tbody tr th {\n",
       "        vertical-align: top;\n",
       "    }\n",
       "\n",
       "    .dataframe thead th {\n",
       "        text-align: right;\n",
       "    }\n",
       "</style>\n",
       "<table border=\"1\" class=\"dataframe\">\n",
       "  <thead>\n",
       "    <tr style=\"text-align: right;\">\n",
       "      <th></th>\n",
       "      <th>Name</th>\n",
       "      <th>StudyHours</th>\n",
       "      <th>Grade</th>\n",
       "    </tr>\n",
       "  </thead>\n",
       "  <tbody>\n",
       "    <tr>\n",
       "      <th>0</th>\n",
       "      <td>Dan</td>\n",
       "      <td>10.00</td>\n",
       "      <td>50.0</td>\n",
       "    </tr>\n",
       "    <tr>\n",
       "      <th>1</th>\n",
       "      <td>Joann</td>\n",
       "      <td>11.50</td>\n",
       "      <td>50.0</td>\n",
       "    </tr>\n",
       "    <tr>\n",
       "      <th>2</th>\n",
       "      <td>Pedro</td>\n",
       "      <td>9.00</td>\n",
       "      <td>47.0</td>\n",
       "    </tr>\n",
       "    <tr>\n",
       "      <th>3</th>\n",
       "      <td>Rosie</td>\n",
       "      <td>16.00</td>\n",
       "      <td>97.0</td>\n",
       "    </tr>\n",
       "    <tr>\n",
       "      <th>4</th>\n",
       "      <td>Ethan</td>\n",
       "      <td>9.25</td>\n",
       "      <td>49.0</td>\n",
       "    </tr>\n",
       "  </tbody>\n",
       "</table>\n",
       "</div>"
      ],
      "text/plain": [
       "    Name  StudyHours  Grade\n",
       "0    Dan       10.00   50.0\n",
       "1  Joann       11.50   50.0\n",
       "2  Pedro        9.00   47.0\n",
       "3  Rosie       16.00   97.0\n",
       "4  Ethan        9.25   49.0"
      ]
     },
     "execution_count": 9,
     "metadata": {},
     "output_type": "execute_result"
    }
   ],
   "source": [
    "# Subsetting to index rows 0 through 4\n",
    "df_students.loc[0:4]"
   ]
  },
  {
   "cell_type": "code",
   "execution_count": 10,
   "id": "1c9d8c9f",
   "metadata": {},
   "outputs": [
    {
     "data": {
      "text/plain": [
       "50.0"
      ]
     },
     "execution_count": 10,
     "metadata": {},
     "output_type": "execute_result"
    }
   ],
   "source": [
    "# Showing the Grade for index 0\n",
    "df_students.loc[0,'Grade']"
   ]
  },
  {
   "cell_type": "code",
   "execution_count": 11,
   "id": "3d712bae",
   "metadata": {},
   "outputs": [
    {
     "data": {
      "text/html": [
       "<div>\n",
       "<style scoped>\n",
       "    .dataframe tbody tr th:only-of-type {\n",
       "        vertical-align: middle;\n",
       "    }\n",
       "\n",
       "    .dataframe tbody tr th {\n",
       "        vertical-align: top;\n",
       "    }\n",
       "\n",
       "    .dataframe thead th {\n",
       "        text-align: right;\n",
       "    }\n",
       "</style>\n",
       "<table border=\"1\" class=\"dataframe\">\n",
       "  <thead>\n",
       "    <tr style=\"text-align: right;\">\n",
       "      <th></th>\n",
       "      <th>Name</th>\n",
       "      <th>StudyHours</th>\n",
       "      <th>Grade</th>\n",
       "    </tr>\n",
       "  </thead>\n",
       "  <tbody>\n",
       "    <tr>\n",
       "      <th>21</th>\n",
       "      <td>Aisha</td>\n",
       "      <td>12.0</td>\n",
       "      <td>64.0</td>\n",
       "    </tr>\n",
       "  </tbody>\n",
       "</table>\n",
       "</div>"
      ],
      "text/plain": [
       "     Name  StudyHours  Grade\n",
       "21  Aisha        12.0   64.0"
      ]
     },
     "execution_count": 11,
     "metadata": {},
     "output_type": "execute_result"
    }
   ],
   "source": [
    "# Showing the rows where Name is Aisha\n",
    "df_students.loc[df_students['Name']=='Aisha']"
   ]
  },
  {
   "cell_type": "code",
   "execution_count": 12,
   "id": "49d4359a",
   "metadata": {},
   "outputs": [
    {
     "data": {
      "text/html": [
       "<div>\n",
       "<style scoped>\n",
       "    .dataframe tbody tr th:only-of-type {\n",
       "        vertical-align: middle;\n",
       "    }\n",
       "\n",
       "    .dataframe tbody tr th {\n",
       "        vertical-align: top;\n",
       "    }\n",
       "\n",
       "    .dataframe thead th {\n",
       "        text-align: right;\n",
       "    }\n",
       "</style>\n",
       "<table border=\"1\" class=\"dataframe\">\n",
       "  <thead>\n",
       "    <tr style=\"text-align: right;\">\n",
       "      <th></th>\n",
       "      <th>Name</th>\n",
       "      <th>StudyHours</th>\n",
       "      <th>Grade</th>\n",
       "    </tr>\n",
       "  </thead>\n",
       "  <tbody>\n",
       "    <tr>\n",
       "      <th>0</th>\n",
       "      <td>Dan</td>\n",
       "      <td>10.0</td>\n",
       "      <td>50.0</td>\n",
       "    </tr>\n",
       "    <tr>\n",
       "      <th>1</th>\n",
       "      <td>Joann</td>\n",
       "      <td>11.5</td>\n",
       "      <td>50.0</td>\n",
       "    </tr>\n",
       "    <tr>\n",
       "      <th>2</th>\n",
       "      <td>Pedro</td>\n",
       "      <td>9.0</td>\n",
       "      <td>47.0</td>\n",
       "    </tr>\n",
       "    <tr>\n",
       "      <th>3</th>\n",
       "      <td>Rosie</td>\n",
       "      <td>16.0</td>\n",
       "      <td>97.0</td>\n",
       "    </tr>\n",
       "  </tbody>\n",
       "</table>\n",
       "</div>"
      ],
      "text/plain": [
       "    Name  StudyHours  Grade\n",
       "0    Dan        10.0   50.0\n",
       "1  Joann        11.5   50.0\n",
       "2  Pedro         9.0   47.0\n",
       "3  Rosie        16.0   97.0"
      ]
     },
     "execution_count": 12,
     "metadata": {},
     "output_type": "execute_result"
    }
   ],
   "source": [
    "# Subsetting to the first through fifth rows (remember, counting in Pandas starts at 0)\n",
    "df_students.iloc[0:4]"
   ]
  },
  {
   "cell_type": "code",
   "execution_count": 13,
   "id": "1d6b1d89",
   "metadata": {},
   "outputs": [
    {
     "data": {
      "text/plain": [
       "StudyHours    10.0\n",
       "Grade         50.0\n",
       "Name: 0, dtype: object"
      ]
     },
     "execution_count": 13,
     "metadata": {},
     "output_type": "execute_result"
    }
   ],
   "source": [
    "# Subsetting to the first row and 2nd and 3rd columnss\n",
    "df_students.iloc[0,[1,2]]"
   ]
  },
  {
   "cell_type": "markdown",
   "id": "6c3f3767",
   "metadata": {},
   "source": [
    "There are often multiple ways to do the same thing in Pandas. For example, the following three statements all filter rows based on the Name column equal to 'Aisha': "
   ]
  },
  {
   "cell_type": "code",
   "execution_count": 14,
   "id": "1134476d",
   "metadata": {},
   "outputs": [
    {
     "data": {
      "text/html": [
       "<div>\n",
       "<style scoped>\n",
       "    .dataframe tbody tr th:only-of-type {\n",
       "        vertical-align: middle;\n",
       "    }\n",
       "\n",
       "    .dataframe tbody tr th {\n",
       "        vertical-align: top;\n",
       "    }\n",
       "\n",
       "    .dataframe thead th {\n",
       "        text-align: right;\n",
       "    }\n",
       "</style>\n",
       "<table border=\"1\" class=\"dataframe\">\n",
       "  <thead>\n",
       "    <tr style=\"text-align: right;\">\n",
       "      <th></th>\n",
       "      <th>Name</th>\n",
       "      <th>StudyHours</th>\n",
       "      <th>Grade</th>\n",
       "    </tr>\n",
       "  </thead>\n",
       "  <tbody>\n",
       "    <tr>\n",
       "      <th>21</th>\n",
       "      <td>Aisha</td>\n",
       "      <td>12.0</td>\n",
       "      <td>64.0</td>\n",
       "    </tr>\n",
       "  </tbody>\n",
       "</table>\n",
       "</div>"
      ],
      "text/plain": [
       "     Name  StudyHours  Grade\n",
       "21  Aisha        12.0   64.0"
      ]
     },
     "execution_count": 14,
     "metadata": {},
     "output_type": "execute_result"
    }
   ],
   "source": [
    "df_students.query('Name==\"Aisha\"')\n",
    "df_students[df_students.Name == 'Aisha']\n",
    "df_students[df_students['Name']=='Aisha']"
   ]
  },
  {
   "cell_type": "markdown",
   "id": "8ab4b5fc",
   "metadata": {},
   "source": [
    "### Loading a Pandas Dataframe and Dealing with Missing Values"
   ]
  },
  {
   "cell_type": "markdown",
   "id": "b10e482e",
   "metadata": {},
   "source": [
    "The following code loads Pandas from a local .csv file. The !wget command runs the bash command wget to pull data from a raw Github data source. You can use it during the exercise to pull data directly from Github, as long as the url points to a similar data source. "
   ]
  },
  {
   "cell_type": "code",
   "execution_count": 15,
   "id": "a8110265",
   "metadata": {},
   "outputs": [
    {
     "name": "stdout",
     "output_type": "stream",
     "text": [
      "--2022-07-03 11:12:29--  https://raw.githubusercontent.com/MicrosoftDocs/mslearn-introduction-to-machine-learning/main/Data/ml-basics/grades.csv\n",
      "Resolving raw.githubusercontent.com (raw.githubusercontent.com)... 185.199.109.133, 185.199.111.133, 185.199.108.133, ...\n",
      "Connecting to raw.githubusercontent.com (raw.githubusercontent.com)|185.199.109.133|:443... connected.\n",
      "HTTP request sent, awaiting response... 200 OK\n",
      "Length: 322 [text/plain]\n",
      "Saving to: 'grades.csv.4'\n",
      "\n",
      "grades.csv.4        100%[===================>]     322  --.-KB/s    in 0s      \n",
      "\n",
      "2022-07-03 11:12:29 (25.6 MB/s) - 'grades.csv.4' saved [322/322]\n",
      "\n"
     ]
    }
   ],
   "source": [
    "# Importing the data to local directory\n",
    "!wget https://raw.githubusercontent.com/MicrosoftDocs/mslearn-introduction-to-machine-learning/main/Data/ml-basics/grades.csv\n",
    "# Reading the data into a Pandas dataframe\n",
    "df_students = pd.read_csv('grades.csv',delimiter=',',header='infer')"
   ]
  },
  {
   "cell_type": "code",
   "execution_count": 16,
   "id": "2fd988a4",
   "metadata": {},
   "outputs": [
    {
     "data": {
      "text/html": [
       "<div>\n",
       "<style scoped>\n",
       "    .dataframe tbody tr th:only-of-type {\n",
       "        vertical-align: middle;\n",
       "    }\n",
       "\n",
       "    .dataframe tbody tr th {\n",
       "        vertical-align: top;\n",
       "    }\n",
       "\n",
       "    .dataframe thead th {\n",
       "        text-align: right;\n",
       "    }\n",
       "</style>\n",
       "<table border=\"1\" class=\"dataframe\">\n",
       "  <thead>\n",
       "    <tr style=\"text-align: right;\">\n",
       "      <th></th>\n",
       "      <th>Name</th>\n",
       "      <th>StudyHours</th>\n",
       "      <th>Grade</th>\n",
       "    </tr>\n",
       "  </thead>\n",
       "  <tbody>\n",
       "    <tr>\n",
       "      <th>0</th>\n",
       "      <td>False</td>\n",
       "      <td>False</td>\n",
       "      <td>False</td>\n",
       "    </tr>\n",
       "    <tr>\n",
       "      <th>1</th>\n",
       "      <td>False</td>\n",
       "      <td>False</td>\n",
       "      <td>False</td>\n",
       "    </tr>\n",
       "    <tr>\n",
       "      <th>2</th>\n",
       "      <td>False</td>\n",
       "      <td>False</td>\n",
       "      <td>False</td>\n",
       "    </tr>\n",
       "    <tr>\n",
       "      <th>3</th>\n",
       "      <td>False</td>\n",
       "      <td>False</td>\n",
       "      <td>False</td>\n",
       "    </tr>\n",
       "    <tr>\n",
       "      <th>4</th>\n",
       "      <td>False</td>\n",
       "      <td>False</td>\n",
       "      <td>False</td>\n",
       "    </tr>\n",
       "  </tbody>\n",
       "</table>\n",
       "</div>"
      ],
      "text/plain": [
       "    Name  StudyHours  Grade\n",
       "0  False       False  False\n",
       "1  False       False  False\n",
       "2  False       False  False\n",
       "3  False       False  False\n",
       "4  False       False  False"
      ]
     },
     "execution_count": 16,
     "metadata": {},
     "output_type": "execute_result"
    }
   ],
   "source": [
    "# Show whether there are null values in the data, as a Boolean\n",
    "df_students.isnull().head()"
   ]
  },
  {
   "cell_type": "code",
   "execution_count": 17,
   "id": "41ce9222",
   "metadata": {},
   "outputs": [
    {
     "data": {
      "text/plain": [
       "Name          0\n",
       "StudyHours    1\n",
       "Grade         2\n",
       "dtype: int64"
      ]
     },
     "execution_count": 17,
     "metadata": {},
     "output_type": "execute_result"
    }
   ],
   "source": [
    "# Finding null values by column\n",
    "df_students.isnull().sum()"
   ]
  },
  {
   "cell_type": "code",
   "execution_count": 18,
   "id": "1ca8766c",
   "metadata": {},
   "outputs": [
    {
     "data": {
      "text/html": [
       "<div>\n",
       "<style scoped>\n",
       "    .dataframe tbody tr th:only-of-type {\n",
       "        vertical-align: middle;\n",
       "    }\n",
       "\n",
       "    .dataframe tbody tr th {\n",
       "        vertical-align: top;\n",
       "    }\n",
       "\n",
       "    .dataframe thead th {\n",
       "        text-align: right;\n",
       "    }\n",
       "</style>\n",
       "<table border=\"1\" class=\"dataframe\">\n",
       "  <thead>\n",
       "    <tr style=\"text-align: right;\">\n",
       "      <th></th>\n",
       "      <th>Name</th>\n",
       "      <th>StudyHours</th>\n",
       "      <th>Grade</th>\n",
       "    </tr>\n",
       "  </thead>\n",
       "  <tbody>\n",
       "    <tr>\n",
       "      <th>22</th>\n",
       "      <td>Bill</td>\n",
       "      <td>8.0</td>\n",
       "      <td>NaN</td>\n",
       "    </tr>\n",
       "    <tr>\n",
       "      <th>23</th>\n",
       "      <td>Ted</td>\n",
       "      <td>NaN</td>\n",
       "      <td>NaN</td>\n",
       "    </tr>\n",
       "  </tbody>\n",
       "</table>\n",
       "</div>"
      ],
      "text/plain": [
       "    Name  StudyHours  Grade\n",
       "22  Bill         8.0    NaN\n",
       "23   Ted         NaN    NaN"
      ]
     },
     "execution_count": 18,
     "metadata": {},
     "output_type": "execute_result"
    }
   ],
   "source": [
    "# Showing rows with null values\n",
    "df_students[df_students.isnull().any(axis=1)]"
   ]
  },
  {
   "cell_type": "code",
   "execution_count": 19,
   "id": "f5423732",
   "metadata": {},
   "outputs": [],
   "source": [
    "# Filling null values with the mean of that column\n",
    "df_students.StudyHours = df_students.StudyHours.fillna(df_students.StudyHours.mean())\n",
    "df_students.Grade = df_students.Grade.fillna(df_students.Grade.mean())"
   ]
  },
  {
   "cell_type": "code",
   "execution_count": 20,
   "id": "b7bcd61c",
   "metadata": {},
   "outputs": [
    {
     "data": {
      "text/plain": [
       "Name          0\n",
       "StudyHours    0\n",
       "Grade         0\n",
       "dtype: int64"
      ]
     },
     "execution_count": 20,
     "metadata": {},
     "output_type": "execute_result"
    }
   ],
   "source": [
    "# Aftering having filling null values with those means, showing null values again by column: \n",
    "df_students.isnull().sum()"
   ]
  },
  {
   "cell_type": "markdown",
   "id": "b6ead7ca",
   "metadata": {},
   "source": [
    "### Creating a New Feature\n",
    "\n",
    "Even at this early stage, it might be helpful to create a new feature, to better understand patterns in your data. Feature engineering is the art/science of creating new features in datasets based on what will be helpful in analyses. There are entire books written on feature engineering, and it's possibly the most important part of being a data scientist, and the part in which domain-area expertise is most important. \n",
    "\n",
    "For now, I'll just show the basic syntax for creating a new column (i.e., a new feature) in a Pandas dataframe based on existing data. In this case, we'll create a new column that shows whether or not students passed, based on their grades: "
   ]
  },
  {
   "cell_type": "code",
   "execution_count": 21,
   "id": "0726a806",
   "metadata": {},
   "outputs": [
    {
     "data": {
      "text/html": [
       "<div>\n",
       "<style scoped>\n",
       "    .dataframe tbody tr th:only-of-type {\n",
       "        vertical-align: middle;\n",
       "    }\n",
       "\n",
       "    .dataframe tbody tr th {\n",
       "        vertical-align: top;\n",
       "    }\n",
       "\n",
       "    .dataframe thead th {\n",
       "        text-align: right;\n",
       "    }\n",
       "</style>\n",
       "<table border=\"1\" class=\"dataframe\">\n",
       "  <thead>\n",
       "    <tr style=\"text-align: right;\">\n",
       "      <th></th>\n",
       "      <th>Name</th>\n",
       "      <th>StudyHours</th>\n",
       "      <th>Grade</th>\n",
       "      <th>Pass</th>\n",
       "    </tr>\n",
       "  </thead>\n",
       "  <tbody>\n",
       "    <tr>\n",
       "      <th>0</th>\n",
       "      <td>Dan</td>\n",
       "      <td>10.00</td>\n",
       "      <td>50.0</td>\n",
       "      <td>False</td>\n",
       "    </tr>\n",
       "    <tr>\n",
       "      <th>1</th>\n",
       "      <td>Joann</td>\n",
       "      <td>11.50</td>\n",
       "      <td>50.0</td>\n",
       "      <td>False</td>\n",
       "    </tr>\n",
       "    <tr>\n",
       "      <th>2</th>\n",
       "      <td>Pedro</td>\n",
       "      <td>9.00</td>\n",
       "      <td>47.0</td>\n",
       "      <td>False</td>\n",
       "    </tr>\n",
       "    <tr>\n",
       "      <th>3</th>\n",
       "      <td>Rosie</td>\n",
       "      <td>16.00</td>\n",
       "      <td>97.0</td>\n",
       "      <td>True</td>\n",
       "    </tr>\n",
       "    <tr>\n",
       "      <th>4</th>\n",
       "      <td>Ethan</td>\n",
       "      <td>9.25</td>\n",
       "      <td>49.0</td>\n",
       "      <td>False</td>\n",
       "    </tr>\n",
       "  </tbody>\n",
       "</table>\n",
       "</div>"
      ],
      "text/plain": [
       "    Name  StudyHours  Grade   Pass\n",
       "0    Dan       10.00   50.0  False\n",
       "1  Joann       11.50   50.0  False\n",
       "2  Pedro        9.00   47.0  False\n",
       "3  Rosie       16.00   97.0   True\n",
       "4  Ethan        9.25   49.0  False"
      ]
     },
     "execution_count": 21,
     "metadata": {},
     "output_type": "execute_result"
    }
   ],
   "source": [
    "# Creating the Pass column based on whether the student's grade was greater than 60\n",
    "df_students[\"Pass\"] = df_students['Grade']>=60\n",
    "\n",
    "#Taking a peak to make sure the variable did what we wanted it to\n",
    "df_students.head()"
   ]
  },
  {
   "cell_type": "markdown",
   "id": "ff42b7e1",
   "metadata": {},
   "source": [
    "### Grouping and sorting data\n",
    "\n",
    "The following code shows how you might group and sort data based on various criteria. This can be helpful to detect patterns early on. In this case, we'll group and sort to examine the relationship between grades, study hours, and whether or not the students passed (our new features): "
   ]
  },
  {
   "cell_type": "code",
   "execution_count": 22,
   "id": "4315f56f",
   "metadata": {},
   "outputs": [
    {
     "data": {
      "text/plain": [
       "Pass\n",
       "False    17\n",
       "True      7\n",
       "Name: Name, dtype: int64"
      ]
     },
     "execution_count": 22,
     "metadata": {},
     "output_type": "execute_result"
    }
   ],
   "source": [
    "# Grouping students by whether or not they passed\n",
    "df_students.groupby(df_students.Pass).Name.count()"
   ]
  },
  {
   "cell_type": "code",
   "execution_count": 23,
   "id": "f78b83f0",
   "metadata": {},
   "outputs": [
    {
     "name": "stderr",
     "output_type": "stream",
     "text": [
      "/var/folders/x3/d55ycfh10xl3qzrrp818k8xw0000gn/T/ipykernel_50329/4153175998.py:2: FutureWarning: Indexing with multiple keys (implicitly converted to a tuple of keys) will be deprecated, use a list instead.\n",
      "  df_students.groupby(df_students.Pass)['StudyHours', 'Grade'].mean()\n"
     ]
    },
    {
     "data": {
      "text/html": [
       "<div>\n",
       "<style scoped>\n",
       "    .dataframe tbody tr th:only-of-type {\n",
       "        vertical-align: middle;\n",
       "    }\n",
       "\n",
       "    .dataframe tbody tr th {\n",
       "        vertical-align: top;\n",
       "    }\n",
       "\n",
       "    .dataframe thead th {\n",
       "        text-align: right;\n",
       "    }\n",
       "</style>\n",
       "<table border=\"1\" class=\"dataframe\">\n",
       "  <thead>\n",
       "    <tr style=\"text-align: right;\">\n",
       "      <th></th>\n",
       "      <th>StudyHours</th>\n",
       "      <th>Grade</th>\n",
       "    </tr>\n",
       "    <tr>\n",
       "      <th>Pass</th>\n",
       "      <th></th>\n",
       "      <th></th>\n",
       "    </tr>\n",
       "  </thead>\n",
       "  <tbody>\n",
       "    <tr>\n",
       "      <th>False</th>\n",
       "      <td>8.83312</td>\n",
       "      <td>39.315508</td>\n",
       "    </tr>\n",
       "    <tr>\n",
       "      <th>True</th>\n",
       "      <td>14.25000</td>\n",
       "      <td>73.142857</td>\n",
       "    </tr>\n",
       "  </tbody>\n",
       "</table>\n",
       "</div>"
      ],
      "text/plain": [
       "       StudyHours      Grade\n",
       "Pass                        \n",
       "False     8.83312  39.315508\n",
       "True     14.25000  73.142857"
      ]
     },
     "execution_count": 23,
     "metadata": {},
     "output_type": "execute_result"
    }
   ],
   "source": [
    "# Grouping students by whether or not they passed and showing their mean grades and Study Hours\n",
    "df_students.groupby(df_students.Pass)['StudyHours', 'Grade'].mean()"
   ]
  },
  {
   "cell_type": "code",
   "execution_count": 24,
   "id": "777b012a",
   "metadata": {},
   "outputs": [
    {
     "data": {
      "text/html": [
       "<div>\n",
       "<style scoped>\n",
       "    .dataframe tbody tr th:only-of-type {\n",
       "        vertical-align: middle;\n",
       "    }\n",
       "\n",
       "    .dataframe tbody tr th {\n",
       "        vertical-align: top;\n",
       "    }\n",
       "\n",
       "    .dataframe thead th {\n",
       "        text-align: right;\n",
       "    }\n",
       "</style>\n",
       "<table border=\"1\" class=\"dataframe\">\n",
       "  <thead>\n",
       "    <tr style=\"text-align: right;\">\n",
       "      <th></th>\n",
       "      <th>Name</th>\n",
       "      <th>StudyHours</th>\n",
       "      <th>Grade</th>\n",
       "      <th>Pass</th>\n",
       "    </tr>\n",
       "  </thead>\n",
       "  <tbody>\n",
       "    <tr>\n",
       "      <th>3</th>\n",
       "      <td>Rosie</td>\n",
       "      <td>16.000000</td>\n",
       "      <td>97.000000</td>\n",
       "      <td>True</td>\n",
       "    </tr>\n",
       "    <tr>\n",
       "      <th>10</th>\n",
       "      <td>Francesca</td>\n",
       "      <td>15.500000</td>\n",
       "      <td>82.000000</td>\n",
       "      <td>True</td>\n",
       "    </tr>\n",
       "    <tr>\n",
       "      <th>9</th>\n",
       "      <td>Giovanni</td>\n",
       "      <td>14.500000</td>\n",
       "      <td>74.000000</td>\n",
       "      <td>True</td>\n",
       "    </tr>\n",
       "    <tr>\n",
       "      <th>14</th>\n",
       "      <td>Jenny</td>\n",
       "      <td>15.500000</td>\n",
       "      <td>70.000000</td>\n",
       "      <td>True</td>\n",
       "    </tr>\n",
       "    <tr>\n",
       "      <th>21</th>\n",
       "      <td>Aisha</td>\n",
       "      <td>12.000000</td>\n",
       "      <td>64.000000</td>\n",
       "      <td>True</td>\n",
       "    </tr>\n",
       "    <tr>\n",
       "      <th>20</th>\n",
       "      <td>Daniel</td>\n",
       "      <td>12.500000</td>\n",
       "      <td>63.000000</td>\n",
       "      <td>True</td>\n",
       "    </tr>\n",
       "    <tr>\n",
       "      <th>11</th>\n",
       "      <td>Rajab</td>\n",
       "      <td>13.750000</td>\n",
       "      <td>62.000000</td>\n",
       "      <td>True</td>\n",
       "    </tr>\n",
       "    <tr>\n",
       "      <th>6</th>\n",
       "      <td>Frederic</td>\n",
       "      <td>11.500000</td>\n",
       "      <td>53.000000</td>\n",
       "      <td>False</td>\n",
       "    </tr>\n",
       "    <tr>\n",
       "      <th>19</th>\n",
       "      <td>Skye</td>\n",
       "      <td>12.000000</td>\n",
       "      <td>52.000000</td>\n",
       "      <td>False</td>\n",
       "    </tr>\n",
       "    <tr>\n",
       "      <th>0</th>\n",
       "      <td>Dan</td>\n",
       "      <td>10.000000</td>\n",
       "      <td>50.000000</td>\n",
       "      <td>False</td>\n",
       "    </tr>\n",
       "    <tr>\n",
       "      <th>1</th>\n",
       "      <td>Joann</td>\n",
       "      <td>11.500000</td>\n",
       "      <td>50.000000</td>\n",
       "      <td>False</td>\n",
       "    </tr>\n",
       "    <tr>\n",
       "      <th>22</th>\n",
       "      <td>Bill</td>\n",
       "      <td>8.000000</td>\n",
       "      <td>49.181818</td>\n",
       "      <td>False</td>\n",
       "    </tr>\n",
       "    <tr>\n",
       "      <th>23</th>\n",
       "      <td>Ted</td>\n",
       "      <td>10.413043</td>\n",
       "      <td>49.181818</td>\n",
       "      <td>False</td>\n",
       "    </tr>\n",
       "    <tr>\n",
       "      <th>4</th>\n",
       "      <td>Ethan</td>\n",
       "      <td>9.250000</td>\n",
       "      <td>49.000000</td>\n",
       "      <td>False</td>\n",
       "    </tr>\n",
       "    <tr>\n",
       "      <th>18</th>\n",
       "      <td>Anila</td>\n",
       "      <td>10.000000</td>\n",
       "      <td>48.000000</td>\n",
       "      <td>False</td>\n",
       "    </tr>\n",
       "    <tr>\n",
       "      <th>2</th>\n",
       "      <td>Pedro</td>\n",
       "      <td>9.000000</td>\n",
       "      <td>47.000000</td>\n",
       "      <td>False</td>\n",
       "    </tr>\n",
       "    <tr>\n",
       "      <th>7</th>\n",
       "      <td>Jimmie</td>\n",
       "      <td>9.000000</td>\n",
       "      <td>42.000000</td>\n",
       "      <td>False</td>\n",
       "    </tr>\n",
       "    <tr>\n",
       "      <th>12</th>\n",
       "      <td>Naiyana</td>\n",
       "      <td>9.000000</td>\n",
       "      <td>37.000000</td>\n",
       "      <td>False</td>\n",
       "    </tr>\n",
       "    <tr>\n",
       "      <th>16</th>\n",
       "      <td>Helena</td>\n",
       "      <td>9.000000</td>\n",
       "      <td>36.000000</td>\n",
       "      <td>False</td>\n",
       "    </tr>\n",
       "    <tr>\n",
       "      <th>17</th>\n",
       "      <td>Ismat</td>\n",
       "      <td>6.000000</td>\n",
       "      <td>35.000000</td>\n",
       "      <td>False</td>\n",
       "    </tr>\n",
       "    <tr>\n",
       "      <th>15</th>\n",
       "      <td>Jakeem</td>\n",
       "      <td>8.000000</td>\n",
       "      <td>27.000000</td>\n",
       "      <td>False</td>\n",
       "    </tr>\n",
       "    <tr>\n",
       "      <th>8</th>\n",
       "      <td>Rhonda</td>\n",
       "      <td>8.500000</td>\n",
       "      <td>26.000000</td>\n",
       "      <td>False</td>\n",
       "    </tr>\n",
       "    <tr>\n",
       "      <th>13</th>\n",
       "      <td>Kian</td>\n",
       "      <td>8.000000</td>\n",
       "      <td>15.000000</td>\n",
       "      <td>False</td>\n",
       "    </tr>\n",
       "    <tr>\n",
       "      <th>5</th>\n",
       "      <td>Vicky</td>\n",
       "      <td>1.000000</td>\n",
       "      <td>3.000000</td>\n",
       "      <td>False</td>\n",
       "    </tr>\n",
       "  </tbody>\n",
       "</table>\n",
       "</div>"
      ],
      "text/plain": [
       "         Name  StudyHours      Grade   Pass\n",
       "3       Rosie   16.000000  97.000000   True\n",
       "10  Francesca   15.500000  82.000000   True\n",
       "9    Giovanni   14.500000  74.000000   True\n",
       "14      Jenny   15.500000  70.000000   True\n",
       "21      Aisha   12.000000  64.000000   True\n",
       "20     Daniel   12.500000  63.000000   True\n",
       "11      Rajab   13.750000  62.000000   True\n",
       "6    Frederic   11.500000  53.000000  False\n",
       "19       Skye   12.000000  52.000000  False\n",
       "0         Dan   10.000000  50.000000  False\n",
       "1       Joann   11.500000  50.000000  False\n",
       "22       Bill    8.000000  49.181818  False\n",
       "23        Ted   10.413043  49.181818  False\n",
       "4       Ethan    9.250000  49.000000  False\n",
       "18      Anila   10.000000  48.000000  False\n",
       "2       Pedro    9.000000  47.000000  False\n",
       "7      Jimmie    9.000000  42.000000  False\n",
       "12    Naiyana    9.000000  37.000000  False\n",
       "16     Helena    9.000000  36.000000  False\n",
       "17      Ismat    6.000000  35.000000  False\n",
       "15     Jakeem    8.000000  27.000000  False\n",
       "8      Rhonda    8.500000  26.000000  False\n",
       "13       Kian    8.000000  15.000000  False\n",
       "5       Vicky    1.000000   3.000000  False"
      ]
     },
     "execution_count": 24,
     "metadata": {},
     "output_type": "execute_result"
    }
   ],
   "source": [
    "# Sorting students by grade\n",
    "df_students.sort_values('Grade', ascending=False)"
   ]
  },
  {
   "cell_type": "markdown",
   "id": "6926a6cc",
   "metadata": {},
   "source": [
    "Clearly, there's some sort of relationship between hours studied, grades, and whether a student passed! Who knew. "
   ]
  },
  {
   "cell_type": "markdown",
   "id": "417b12e3",
   "metadata": {},
   "source": [
    "# Visualize Data with Matplotlib\n",
    "\n",
    "All right, let's get visualizing! Visualizations are critical for data scientists to understand data and detect patterns, and they are even more important for clients, who may or may not have the technical backgrounds or the time to understand strictly-numerical analyses. \n",
    "\n",
    "In Matplot, the basic object is the \"pyplot\", which, once created, can be added to and tweaked in various ways for the best possible visualization. Multiple plots can also be rendered in \"figures\", to show them together in neat, organized ways. \n",
    "\n"
   ]
  },
  {
   "cell_type": "markdown",
   "id": "7248c742",
   "metadata": {},
   "source": [
    "The following code creates a simple plot using the students data we've been manipulating. "
   ]
  },
  {
   "cell_type": "code",
   "execution_count": 25,
   "id": "755b977d",
   "metadata": {},
   "outputs": [
    {
     "data": {
      "image/png": "[encoded data removed]",
      "text/plain": [
       "<Figure size 432x288 with 1 Axes>"
      ]
     },
     "metadata": {
      "needs_background": "light"
     },
     "output_type": "display_data"
    }
   ],
   "source": [
    "%matplotlib inline \n",
    "# importing matplot\n",
    "from matplotlib import pyplot as plt\n",
    "# Add a bar chart to the pyplot\n",
    "plt.bar(x=df_students.Name, height = df_students.Grade)\n",
    "# Showing the plot\n",
    "plt.show()"
   ]
  },
  {
   "cell_type": "markdown",
   "id": "c2454831",
   "metadata": {},
   "source": [
    "As you can see, this plot is nowhere near client-ready. The following code shows several transformation to the pyplot object to make it more palatable: "
   ]
  },
  {
   "cell_type": "code",
   "execution_count": 26,
   "id": "976e8ced",
   "metadata": {},
   "outputs": [
    {
     "data": {
      "image/png": "[encoded data removed]",
      "text/plain": [
       "<Figure size 432x288 with 1 Axes>"
      ]
     },
     "metadata": {
      "needs_background": "light"
     },
     "output_type": "display_data"
    }
   ],
   "source": [
    "# Create a bar plot of name vs grade\n",
    "plt.bar(x=df_students.Name, height=df_students.Grade, color='orange')\n",
    "\n",
    "# Adding a title\n",
    "plt.title('Student Grades')\n",
    "# Adding a x-axis label\n",
    "plt.xlabel('Student')\n",
    "# Adding a y-axis label\n",
    "plt.ylabel('Grade')\n",
    "# Adding a grid\n",
    "plt.grid(color='#95a5a6', linestyle='--', linewidth=2, axis='y', alpha=0.7)\n",
    "# Rotating the x-labels 90 degrees so they don't overlap\n",
    "plt.xticks(rotation=90)\n",
    "\n",
    "# Display the plot\n",
    "plt.show()"
   ]
  },
  {
   "cell_type": "markdown",
   "id": "edf085c7",
   "metadata": {},
   "source": [
    "#### Using a figure to render multiple pyplots\n",
    "\n",
    "The following code uses a figure to render multiple pyplots together: "
   ]
  },
  {
   "cell_type": "code",
   "execution_count": 27,
   "id": "523cd73c",
   "metadata": {},
   "outputs": [
    {
     "name": "stderr",
     "output_type": "stream",
     "text": [
      "/var/folders/x3/d55ycfh10xl3qzrrp818k8xw0000gn/T/ipykernel_50329/471921506.py:9: UserWarning: FixedFormatter should only be used together with FixedLocator\n",
      "  ax[0].set_xticklabels(df_students.Name, rotation=90)\n",
      "/var/folders/x3/d55ycfh10xl3qzrrp818k8xw0000gn/T/ipykernel_50329/471921506.py:24: UserWarning: Matplotlib is currently using module://matplotlib_inline.backend_inline, which is a non-GUI backend, so cannot show the figure.\n",
      "  fig.show()\n"
     ]
    },
    {
     "data": {
      "image/png": "[encoded data removed]",
      "text/plain": [
       "<Figure size 720x288 with 2 Axes>"
      ]
     },
     "metadata": {
      "needs_background": "light"
     },
     "output_type": "display_data"
    }
   ],
   "source": [
    "# Create a figure for 2 subplots (1 row, 2 columns)\n",
    "fig, ax = plt.subplots(1, 2, figsize = (10,4))\n",
    "\n",
    "# Create a bar plot of name vs grade on the first axis\n",
    "ax[0].bar(x=df_students.Name, height=df_students.Grade, color='orange')\n",
    "# Settling title for the bar plot\n",
    "ax[0].set_title('Grades')\n",
    "# Rotating the x-labels of the bar plot\n",
    "ax[0].set_xticklabels(df_students.Name, rotation=90)\n",
    "\n",
    "# Create a pass counts variable\n",
    "pass_counts = df_students['Pass'].value_counts()\n",
    "# Add a pie chart of pass counts to the second axis\n",
    "ax[1].pie(pass_counts, labels=pass_counts)\n",
    "# Setting the title for the pie chart\n",
    "ax[1].set_title('Passing Grades')\n",
    "# Creating a legend fo the pie chart\n",
    "ax[1].legend(pass_counts.keys().tolist())\n",
    "\n",
    "# Add a title to the Figure\n",
    "fig.suptitle('Student Data')\n",
    "\n",
    "# Show the figure\n",
    "fig.show()"
   ]
  },
  {
   "cell_type": "markdown",
   "id": "c914f88a",
   "metadata": {},
   "source": [
    "### Applying Description Statistics to Pyplots\n",
    "\n",
    "It can also be helpful to show basic descriptive statistics on pyplots. For example, consider the following histogram of the \"Grade\" variable: "
   ]
  },
  {
   "cell_type": "code",
   "execution_count": 28,
   "id": "0872734b",
   "metadata": {},
   "outputs": [
    {
     "name": "stderr",
     "output_type": "stream",
     "text": [
      "/var/folders/x3/d55ycfh10xl3qzrrp818k8xw0000gn/T/ipykernel_50329/3926818928.py:14: UserWarning: Matplotlib is currently using module://matplotlib_inline.backend_inline, which is a non-GUI backend, so cannot show the figure.\n",
      "  fig.show()\n"
     ]
    },
    {
     "data": {
      "image/png": "[encoded data removed]",
      "text/plain": [
       "<Figure size 720x288 with 1 Axes>"
      ]
     },
     "metadata": {
      "needs_background": "light"
     },
     "output_type": "display_data"
    }
   ],
   "source": [
    "# Creating an just for Grade data\n",
    "var_data = df_students['Grade']\n",
    "# Creating a figure with wide dimensions\n",
    "fig = plt.figure(figsize=(10,4))\n",
    "# Adding a histogram to the plot\n",
    "plt.hist(var_data)\n",
    "# Setting the plot title\n",
    "plt.title('Data Distribution')\n",
    "# Seeing the x-label\n",
    "plt.xlabel('Value')\n",
    "# Setting the y-label\n",
    "plt.ylabel('Frequency')\n",
    "# Showing the plot\n",
    "fig.show()"
   ]
  },
  {
   "cell_type": "markdown",
   "id": "22a2a015",
   "metadata": {},
   "source": [
    "Using matplot, we can add lines that show critical descriptive statistics, such as mean and median to the histogram: "
   ]
  },
  {
   "cell_type": "code",
   "execution_count": 29,
   "id": "f921688e",
   "metadata": {},
   "outputs": [
    {
     "name": "stderr",
     "output_type": "stream",
     "text": [
      "/var/folders/x3/d55ycfh10xl3qzrrp818k8xw0000gn/T/ipykernel_50329/2349089198.py:30: UserWarning: Matplotlib is currently using module://matplotlib_inline.backend_inline, which is a non-GUI backend, so cannot show the figure.\n",
      "  fig.show()\n"
     ]
    },
    {
     "data": {
      "image/png": "[encoded data removed]",
      "text/plain": [
       "<Figure size 720x288 with 1 Axes>"
      ]
     },
     "metadata": {
      "needs_background": "light"
     },
     "output_type": "display_data"
    }
   ],
   "source": [
    "# Creating the Grade variable\n",
    "var = df_students['Grade']\n",
    "\n",
    "# Get variables for each statistic: min, max, mean, median, and mode\n",
    "min_val = var.min()\n",
    "max_val = var.max()\n",
    "mean_val = var.mean()\n",
    "med_val = var.median()\n",
    "mod_val = var.mode()[0]\n",
    "\n",
    "#Create a Figure\n",
    "fig = plt.figure(figsize=(10,4))\n",
    "\n",
    "# Plot a histogram\n",
    "plt.hist(var)\n",
    "\n",
    "# Add the lines for each of the statistics above\n",
    "plt.axvline(x=min_val, color = 'gray', linestyle = 'dashed', linewidth = 2)\n",
    "plt.axvline(x=mean_val, color = 'cyan', linestyle='dashed', linewidth = 2)\n",
    "plt.axvline(x=med_val, color = 'red', linestyle='dashed', linewidth = 2)\n",
    "plt.axvline(x=mod_val, color = 'yellow', linestyle='dashed', linewidth = 2)\n",
    "plt.axvline(x=max_val, color = 'gray', linestyle='dashed', linewidth = 2)\n",
    "\n",
    "# Add titles and labels\n",
    "plt.title('Data Distribution')\n",
    "plt.xlabel('Value')\n",
    "plt.ylabel('Frequency')\n",
    "\n",
    "# Show the figure\n",
    "fig.show()"
   ]
  },
  {
   "cell_type": "markdown",
   "id": "2a23c781",
   "metadata": {},
   "source": [
    "\n",
    "# Exercise\n",
    "\n",
    "Suppose that your client wants you to explore a dataset and give a presentation on it to them, where you describe the contents of the data set, the possible complications with regards to data hygiene, and your proposed steps for preparing the data for analysis. Choose one of the following datasets and put together that presentation: [Github Dataset Collection](https://gist.github.com/rnirmal/e01acfdaf54a6f9b24e91ba4cae63518)"
   ]
  },
  {
   "cell_type": "markdown",
   "id": "4d1ec585",
   "metadata": {},
   "source": [
    "#### Sources \n",
    "\n",
    "This notebook draws partially from examples in Azure's Data Science certification track. For more information, see this [link](https://docs.microsoft.com/en-us/learn/certifications/azure-data-scientist/). "
   ]
  },
  {
   "cell_type": "code",
   "execution_count": null,
   "id": "fa4b84c8",
   "metadata": {},
   "outputs": [],
   "source": []
  },
  {
   "cell_type": "code",
   "execution_count": null,
   "id": "03725e38",
   "metadata": {},
   "outputs": [],
   "source": []
  }
 ],
 "metadata": {
  "kernelspec": {
   "display_name": "Python 3 (ipykernel)",
   "language": "python",
   "name": "python3"
  },
  "language_info": {
   "codemirror_mode": {
    "name": "ipython",
    "version": 3
   },
   "file_extension": ".py",
   "mimetype": "text/x-python",
   "name": "python",
   "nbconvert_exporter": "python",
   "pygments_lexer": "ipython3",
   "version": "3.9.12"
  }
 },
 "nbformat": 4,
 "nbformat_minor": 5
}
