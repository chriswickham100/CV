{
 "cells": [
  {
   "cell_type": "markdown",
   "id": "ac9f96de",
   "metadata": {},
   "source": [
    "# Data Exploration, Data Cleaning, and Basic Data Visualization\n",
    "\n",
    "In the best of circumstances (e.g., when you're using sample datasets in school), your data will be clearly defined, devoid of missing values or type errors, and otherwise perfectly curated for you to import and begin working with. \n",
    "\n",
    "*In practice, this is almost never the case.* \n",
    "\n",
    "As a data scientist within a consulting team, you'll be expected to explore, deeply understand, and clean data before you conduct any analysis on it. According to Anaconda's 2021 State of Data Science survey, survey respondents said they spend “39% of their time on data prep and data cleansing, which is more than the time spent on model training, model selection, and deploying models combined.”\n",
    "\n",
    "In a data science-oriented engagement, you will often spend weeks collecting, analyzing, and curating data, then present a profile of that data to your client to ensure that the steps you've taken are acceptable before you even begin model development. \n",
    "\n",
    "This notebook contains code snippets for typical steps you might take to begin exploring a dataset and, once you understanding, cleaning it. In practice, though, data cleaning and exploration is among the best opportunities to improvise and apply your ingenuity and knowledge as a data scientist, so there's no set approach. It's also typically a time in your project when you would rely heavily of subject-matter experts (e.g., if you work with the FDA account, doctors or epidemiologists) to help intepret the data. "
   ]
  },
  {
   "cell_type": "markdown",
   "id": "64216617",
   "metadata": {},
   "source": [
    "##### Core data science libraries in Python: Pandas, Numpy, MatPlotlib, Scikit-Learn\n",
    "\n",
    "We'll be using Pandas and Numpy to clean and explore this data, and for most of the other notebooks, and we'll be using Matplot lib to visualize it. Scikit-learn, meanwhile, is the main library for training and testing models, as other relevant tasks, like setting up data transformation pipelines. \n",
    "\n",
    "Like elsewhere in this course, the key for using Pandas, Numpy, Matplot, and Scikit-learn correctly is *flexibility*. Try lots of things, see what works and what doesn't, and don't get fixed into a particular mindset or habit. Also, when you're beginning to optimized for performance down the road, note that Pandas dataframes require a relatively large amount of memory. It's often better to replace data transformations with SQL queries down the road after having conducted initial exploration in Pandas.\n",
    "\n",
    "when you have a chance, familiarize yourself with the documentation of each: \n",
    "\n",
    "- [Pandas Documentation](https://pandas.pydata.org/docs/)\n",
    "- [Numpy Documentation](https://numpy.org/doc/)\n",
    "- [Matplotlib Documentation](https://matplotlib.org/3.5.2/index.html)\n",
    "- [Scikit-learn Documentation](https://scikit-learn.org/0.18/_downloads/scikit-learn-docs.pdf)\n",
    "\n",
    "Also note that data exploration, cleaning, and visualization is an ongoing process. In the notebooks for classification, regression, etc., you'll see lots of additional visualizations and explorations of features that are particularly releveant for that analysis. That's typical, becuase in practice, visualization and exploration of the data changes and adapts as the analytical needs of the project changes. \n",
    "\n",
    "## Exercise: Select a dataset and apply all of the code snippets in this notebook\n",
    "\n",
    "The best way to learn is by doing. Suppose that your client wants you to explore a dataset and give a presentation on it to them, where you describe the contents of the data set, the possible complications with regards to data hygiene, and your proposed steps for preparing the data for analysis. Choose one of the following datasets (skip down to learn how to load a dataset into a Pandas dataframe) and use code snippets from this notebook, as well as any additional analyses that might be relevant, to put together that presentation: [Github Dataset Collection](https://gist.github.com/rnirmal/e01acfdaf54a6f9b24e91ba4cae63518)"
   ]
  },
  {
   "cell_type": "markdown",
   "id": "e2eb7f0b",
   "metadata": {},
   "source": [
    "### Create a Numpy Array and show basic information"
   ]
  },
  {
   "cell_type": "markdown",
   "id": "b7e9ed94",
   "metadata": {},
   "source": [
    "The following script creates an array and dataframe from scratch and shows code for printing basic information to the console: "
   ]
  },
  {
   "cell_type": "code",
   "execution_count": 1,
   "id": "ed8eeb16",
   "metadata": {},
   "outputs": [
    {
     "name": "stdout",
     "output_type": "stream",
     "text": [
      "<class 'numpy.ndarray'>\n"
     ]
    }
   ],
   "source": [
    "# Importing the numpy package\n",
    "import numpy as np\n",
    "\n",
    "# Create the array from a list\n",
    "data = [50,50,47,97,49,3,53,42,26,74,82,62,37,15,70,27,36,35,48,52,63,64]\n",
    "grades = np.array(data) \n",
    "\n",
    "# Finding the type of the array\n",
    "print(type(grades))"
   ]
  },
  {
   "cell_type": "code",
   "execution_count": 2,
   "id": "7e79d97b",
   "metadata": {},
   "outputs": [
    {
     "name": "stdout",
     "output_type": "stream",
     "text": [
      "(22,)\n"
     ]
    }
   ],
   "source": [
    "# Finding the dimension of the array\n",
    "print(grades.shape)"
   ]
  },
  {
   "cell_type": "code",
   "execution_count": 3,
   "id": "a1eb8bdd",
   "metadata": {},
   "outputs": [
    {
     "name": "stdout",
     "output_type": "stream",
     "text": [
      "50\n"
     ]
    }
   ],
   "source": [
    "# Finding the first entry of the array\n",
    "print(grades[0])"
   ]
  },
  {
   "cell_type": "code",
   "execution_count": 4,
   "id": "7c5426ab",
   "metadata": {},
   "outputs": [
    {
     "name": "stdout",
     "output_type": "stream",
     "text": [
      "49.18181818181818\n"
     ]
    }
   ],
   "source": [
    "# Finding the mean of the array\n",
    "print(grades.mean())"
   ]
  },
  {
   "cell_type": "markdown",
   "id": "31085bc7",
   "metadata": {},
   "source": [
    "The following script combines two arrays into a multi-dimensional arrays and prints basic information to the console:m "
   ]
  },
  {
   "cell_type": "code",
   "execution_count": 5,
   "id": "3f20e524",
   "metadata": {},
   "outputs": [
    {
     "name": "stdout",
     "output_type": "stream",
     "text": [
      "(2, 22)\n"
     ]
    }
   ],
   "source": [
    "# Adding a second list to the array to create a two dimensional array\n",
    "study_hours = [10.0,11.5,9.0,16.0,9.25,1.0,11.5,9.0,8.5,14.5,15.5,\n",
    "               13.75,9.0,8.0,15.5,8.0,9.0,6.0,10.0,12.0,12.5,12.0]\n",
    "student_data = np.array([study_hours, grades])\n",
    "\n",
    "# Finding the dimensions of the array - as always, the results should be intepreted \"rows, colums\"\n",
    "print(student_data.shape)\n",
    "\n"
   ]
  },
  {
   "cell_type": "code",
   "execution_count": 6,
   "id": "0ce698c4",
   "metadata": {},
   "outputs": [
    {
     "name": "stdout",
     "output_type": "stream",
     "text": [
      "Average study hours: 10.52\n",
      "Average grade: 49.18\n"
     ]
    }
   ],
   "source": [
    "#Storying the mean for each row in the array\n",
    "avg_study = student_data[0].mean()\n",
    "avg_grade = student_data[1].mean()\n",
    "\n",
    "# Printing the results above to the console with formatting\n",
    "print('Average study hours: {:.2f}\\nAverage grade: {:.2f}'.format(avg_study, avg_grade))"
   ]
  },
  {
   "cell_type": "markdown",
   "id": "20d6b8f0",
   "metadata": {},
   "source": [
    "For more information as to the types of analyses you can conduct on numpy arrays, see this Numpy documentation [here](https://numpy.org/doc/). We'll be coming back to Numpy frequently. "
   ]
  },
  {
   "cell_type": "markdown",
   "id": "cf786a85",
   "metadata": {},
   "source": [
    "### Create a DataFrame and find basic information"
   ]
  },
  {
   "cell_type": "markdown",
   "id": "410136c2",
   "metadata": {},
   "source": [
    "The following code creates a dataframe and applies basic filters and queries to it. \n",
    "\n",
    "*Note: The difference between .loc and .iloc is that, counter-intuitively, .loc filters rows based on their index and .iloc filters rows based on their ordinal location within the dataframe. In general, it is more flexible and better practice to filter based on .loc* "
   ]
  },
  {
   "cell_type": "code",
   "execution_count": 7,
   "id": "f03944bb",
   "metadata": {},
   "outputs": [],
   "source": [
    "import pandas as pd\n",
    "\n",
    "df_students = pd.DataFrame({'Name': ['Dan', 'Joann', 'Pedro', 'Rosie', 'Ethan', 'Vicky', 'Frederic', 'Jimmie', \n",
    "                                     'Rhonda', 'Giovanni', 'Francesca', 'Rajab', 'Naiyana', 'Kian', 'Jenny',\n",
    "                                     'Jakeem','Helena','Ismat','Anila','Skye','Daniel','Aisha'],\n",
    "                            'StudyHours':student_data[0],\n",
    "                            'Grade':student_data[1]})"
   ]
  },
  {
   "cell_type": "code",
   "execution_count": 8,
   "id": "5fb988b5",
   "metadata": {},
   "outputs": [
    {
     "data": {
      "text/html": [
       "<div>\n",
       "<style scoped>\n",
       "    .dataframe tbody tr th:only-of-type {\n",
       "        vertical-align: middle;\n",
       "    }\n",
       "\n",
       "    .dataframe tbody tr th {\n",
       "        vertical-align: top;\n",
       "    }\n",
       "\n",
       "    .dataframe thead th {\n",
       "        text-align: right;\n",
       "    }\n",
       "</style>\n",
       "<table border=\"1\" class=\"dataframe\">\n",
       "  <thead>\n",
       "    <tr style=\"text-align: right;\">\n",
       "      <th></th>\n",
       "      <th>Name</th>\n",
       "      <th>StudyHours</th>\n",
       "      <th>Grade</th>\n",
       "    </tr>\n",
       "  </thead>\n",
       "  <tbody>\n",
       "    <tr>\n",
       "      <th>0</th>\n",
       "      <td>Dan</td>\n",
       "      <td>10.00</td>\n",
       "      <td>50.0</td>\n",
       "    </tr>\n",
       "    <tr>\n",
       "      <th>1</th>\n",
       "      <td>Joann</td>\n",
       "      <td>11.50</td>\n",
       "      <td>50.0</td>\n",
       "    </tr>\n",
       "    <tr>\n",
       "      <th>2</th>\n",
       "      <td>Pedro</td>\n",
       "      <td>9.00</td>\n",
       "      <td>47.0</td>\n",
       "    </tr>\n",
       "    <tr>\n",
       "      <th>3</th>\n",
       "      <td>Rosie</td>\n",
       "      <td>16.00</td>\n",
       "      <td>97.0</td>\n",
       "    </tr>\n",
       "    <tr>\n",
       "      <th>4</th>\n",
       "      <td>Ethan</td>\n",
       "      <td>9.25</td>\n",
       "      <td>49.0</td>\n",
       "    </tr>\n",
       "  </tbody>\n",
       "</table>\n",
       "</div>"
      ],
      "text/plain": [
       "    Name  StudyHours  Grade\n",
       "0    Dan       10.00   50.0\n",
       "1  Joann       11.50   50.0\n",
       "2  Pedro        9.00   47.0\n",
       "3  Rosie       16.00   97.0\n",
       "4  Ethan        9.25   49.0"
      ]
     },
     "execution_count": 8,
     "metadata": {},
     "output_type": "execute_result"
    }
   ],
   "source": [
    "# .head() is the most common method for \"peaking\" at data\n",
    "df_students.head()"
   ]
  },
  {
   "cell_type": "code",
   "execution_count": 9,
   "id": "5ecb2a02",
   "metadata": {},
   "outputs": [
    {
     "data": {
      "text/html": [
       "<div>\n",
       "<style scoped>\n",
       "    .dataframe tbody tr th:only-of-type {\n",
       "        vertical-align: middle;\n",
       "    }\n",
       "\n",
       "    .dataframe tbody tr th {\n",
       "        vertical-align: top;\n",
       "    }\n",
       "\n",
       "    .dataframe thead th {\n",
       "        text-align: right;\n",
       "    }\n",
       "</style>\n",
       "<table border=\"1\" class=\"dataframe\">\n",
       "  <thead>\n",
       "    <tr style=\"text-align: right;\">\n",
       "      <th></th>\n",
       "      <th>StudyHours</th>\n",
       "      <th>Grade</th>\n",
       "    </tr>\n",
       "  </thead>\n",
       "  <tbody>\n",
       "    <tr>\n",
       "      <th>count</th>\n",
       "      <td>22.000000</td>\n",
       "      <td>22.000000</td>\n",
       "    </tr>\n",
       "    <tr>\n",
       "      <th>mean</th>\n",
       "      <td>10.522727</td>\n",
       "      <td>49.181818</td>\n",
       "    </tr>\n",
       "    <tr>\n",
       "      <th>std</th>\n",
       "      <td>3.487144</td>\n",
       "      <td>21.737912</td>\n",
       "    </tr>\n",
       "    <tr>\n",
       "      <th>min</th>\n",
       "      <td>1.000000</td>\n",
       "      <td>3.000000</td>\n",
       "    </tr>\n",
       "    <tr>\n",
       "      <th>25%</th>\n",
       "      <td>9.000000</td>\n",
       "      <td>36.250000</td>\n",
       "    </tr>\n",
       "    <tr>\n",
       "      <th>50%</th>\n",
       "      <td>10.000000</td>\n",
       "      <td>49.500000</td>\n",
       "    </tr>\n",
       "    <tr>\n",
       "      <th>75%</th>\n",
       "      <td>12.375000</td>\n",
       "      <td>62.750000</td>\n",
       "    </tr>\n",
       "    <tr>\n",
       "      <th>max</th>\n",
       "      <td>16.000000</td>\n",
       "      <td>97.000000</td>\n",
       "    </tr>\n",
       "  </tbody>\n",
       "</table>\n",
       "</div>"
      ],
      "text/plain": [
       "       StudyHours      Grade\n",
       "count   22.000000  22.000000\n",
       "mean    10.522727  49.181818\n",
       "std      3.487144  21.737912\n",
       "min      1.000000   3.000000\n",
       "25%      9.000000  36.250000\n",
       "50%     10.000000  49.500000\n",
       "75%     12.375000  62.750000\n",
       "max     16.000000  97.000000"
      ]
     },
     "execution_count": 9,
     "metadata": {},
     "output_type": "execute_result"
    }
   ],
   "source": [
    "# .describe() gives you more statistical information\n",
    "df_students.describe()"
   ]
  },
  {
   "cell_type": "code",
   "execution_count": 10,
   "id": "df529291",
   "metadata": {},
   "outputs": [
    {
     "data": {
      "text/plain": [
       "3.0"
      ]
     },
     "execution_count": 10,
     "metadata": {},
     "output_type": "execute_result"
    }
   ],
   "source": [
    "# Finding the mininum grade\n",
    "df_students.Grade.min()"
   ]
  },
  {
   "cell_type": "code",
   "execution_count": 11,
   "id": "94cc92fa",
   "metadata": {},
   "outputs": [
    {
     "data": {
      "text/plain": [
       "97.0"
      ]
     },
     "execution_count": 11,
     "metadata": {},
     "output_type": "execute_result"
    }
   ],
   "source": [
    "# Finding the maximum grade\n",
    "df_students.Grade.max()"
   ]
  },
  {
   "cell_type": "code",
   "execution_count": 12,
   "id": "f7dc62f5",
   "metadata": {},
   "outputs": [
    {
     "data": {
      "text/plain": [
       "49.5"
      ]
     },
     "execution_count": 12,
     "metadata": {},
     "output_type": "execute_result"
    }
   ],
   "source": [
    "# Finding the median grade\n",
    "df_students.Grade.median()"
   ]
  },
  {
   "cell_type": "code",
   "execution_count": 13,
   "id": "b14dfe88",
   "metadata": {},
   "outputs": [
    {
     "data": {
      "text/plain": [
       "49.18181818181818"
      ]
     },
     "execution_count": 13,
     "metadata": {},
     "output_type": "execute_result"
    }
   ],
   "source": [
    "# Finding the mean grade\n",
    "df_students.Grade.mean()"
   ]
  },
  {
   "cell_type": "code",
   "execution_count": 14,
   "id": "d12817e6",
   "metadata": {},
   "outputs": [
    {
     "name": "stdout",
     "output_type": "stream",
     "text": [
      "This is the first percentile: 5.52\n",
      "And this is the 99th: 93.85\n"
     ]
    }
   ],
   "source": [
    "\n",
    "q01 = df_students.Grade.quantile(0.01)\n",
    "q99 = df_students.Grade.quantile(0.99)\n",
    "print('This is the first percentile: {:.2f}\\nAnd this is the 99th: {:.2f}'.format(q01, q99))"
   ]
  },
  {
   "cell_type": "markdown",
   "id": "84c72134",
   "metadata": {},
   "source": [
    "### Filter the dataframe using .loc, .iloc, query, and others"
   ]
  },
  {
   "cell_type": "code",
   "execution_count": 15,
   "id": "e4a0b361",
   "metadata": {},
   "outputs": [
    {
     "data": {
      "text/plain": [
       "Name          Vicky\n",
       "StudyHours      1.0\n",
       "Grade           3.0\n",
       "Name: 5, dtype: object"
      ]
     },
     "execution_count": 15,
     "metadata": {},
     "output_type": "execute_result"
    }
   ],
   "source": [
    "# Finding the row at index location 5\n",
    "df_students.loc[5]"
   ]
  },
  {
   "cell_type": "code",
   "execution_count": 16,
   "id": "ccfebf3c",
   "metadata": {},
   "outputs": [
    {
     "data": {
      "text/html": [
       "<div>\n",
       "<style scoped>\n",
       "    .dataframe tbody tr th:only-of-type {\n",
       "        vertical-align: middle;\n",
       "    }\n",
       "\n",
       "    .dataframe tbody tr th {\n",
       "        vertical-align: top;\n",
       "    }\n",
       "\n",
       "    .dataframe thead th {\n",
       "        text-align: right;\n",
       "    }\n",
       "</style>\n",
       "<table border=\"1\" class=\"dataframe\">\n",
       "  <thead>\n",
       "    <tr style=\"text-align: right;\">\n",
       "      <th></th>\n",
       "      <th>Name</th>\n",
       "      <th>StudyHours</th>\n",
       "      <th>Grade</th>\n",
       "    </tr>\n",
       "  </thead>\n",
       "  <tbody>\n",
       "    <tr>\n",
       "      <th>0</th>\n",
       "      <td>Dan</td>\n",
       "      <td>10.00</td>\n",
       "      <td>50.0</td>\n",
       "    </tr>\n",
       "    <tr>\n",
       "      <th>1</th>\n",
       "      <td>Joann</td>\n",
       "      <td>11.50</td>\n",
       "      <td>50.0</td>\n",
       "    </tr>\n",
       "    <tr>\n",
       "      <th>2</th>\n",
       "      <td>Pedro</td>\n",
       "      <td>9.00</td>\n",
       "      <td>47.0</td>\n",
       "    </tr>\n",
       "    <tr>\n",
       "      <th>3</th>\n",
       "      <td>Rosie</td>\n",
       "      <td>16.00</td>\n",
       "      <td>97.0</td>\n",
       "    </tr>\n",
       "    <tr>\n",
       "      <th>4</th>\n",
       "      <td>Ethan</td>\n",
       "      <td>9.25</td>\n",
       "      <td>49.0</td>\n",
       "    </tr>\n",
       "  </tbody>\n",
       "</table>\n",
       "</div>"
      ],
      "text/plain": [
       "    Name  StudyHours  Grade\n",
       "0    Dan       10.00   50.0\n",
       "1  Joann       11.50   50.0\n",
       "2  Pedro        9.00   47.0\n",
       "3  Rosie       16.00   97.0\n",
       "4  Ethan        9.25   49.0"
      ]
     },
     "execution_count": 16,
     "metadata": {},
     "output_type": "execute_result"
    }
   ],
   "source": [
    "# Subsetting to index rows 0 through 4\n",
    "df_students.loc[0:4]"
   ]
  },
  {
   "cell_type": "code",
   "execution_count": 17,
   "id": "18072132",
   "metadata": {},
   "outputs": [
    {
     "data": {
      "text/plain": [
       "50.0"
      ]
     },
     "execution_count": 17,
     "metadata": {},
     "output_type": "execute_result"
    }
   ],
   "source": [
    "# Showing the Grade for index 0\n",
    "df_students.loc[0,'Grade']"
   ]
  },
  {
   "cell_type": "code",
   "execution_count": 18,
   "id": "542f1f27",
   "metadata": {},
   "outputs": [
    {
     "data": {
      "text/html": [
       "<div>\n",
       "<style scoped>\n",
       "    .dataframe tbody tr th:only-of-type {\n",
       "        vertical-align: middle;\n",
       "    }\n",
       "\n",
       "    .dataframe tbody tr th {\n",
       "        vertical-align: top;\n",
       "    }\n",
       "\n",
       "    .dataframe thead th {\n",
       "        text-align: right;\n",
       "    }\n",
       "</style>\n",
       "<table border=\"1\" class=\"dataframe\">\n",
       "  <thead>\n",
       "    <tr style=\"text-align: right;\">\n",
       "      <th></th>\n",
       "      <th>Name</th>\n",
       "      <th>StudyHours</th>\n",
       "      <th>Grade</th>\n",
       "    </tr>\n",
       "  </thead>\n",
       "  <tbody>\n",
       "    <tr>\n",
       "      <th>21</th>\n",
       "      <td>Aisha</td>\n",
       "      <td>12.0</td>\n",
       "      <td>64.0</td>\n",
       "    </tr>\n",
       "  </tbody>\n",
       "</table>\n",
       "</div>"
      ],
      "text/plain": [
       "     Name  StudyHours  Grade\n",
       "21  Aisha        12.0   64.0"
      ]
     },
     "execution_count": 18,
     "metadata": {},
     "output_type": "execute_result"
    }
   ],
   "source": [
    "# Showing the rows where Name is Aisha\n",
    "df_students.loc[df_students['Name']=='Aisha']"
   ]
  },
  {
   "cell_type": "code",
   "execution_count": 19,
   "id": "7dcd5936",
   "metadata": {},
   "outputs": [
    {
     "data": {
      "text/html": [
       "<div>\n",
       "<style scoped>\n",
       "    .dataframe tbody tr th:only-of-type {\n",
       "        vertical-align: middle;\n",
       "    }\n",
       "\n",
       "    .dataframe tbody tr th {\n",
       "        vertical-align: top;\n",
       "    }\n",
       "\n",
       "    .dataframe thead th {\n",
       "        text-align: right;\n",
       "    }\n",
       "</style>\n",
       "<table border=\"1\" class=\"dataframe\">\n",
       "  <thead>\n",
       "    <tr style=\"text-align: right;\">\n",
       "      <th></th>\n",
       "      <th>Name</th>\n",
       "      <th>StudyHours</th>\n",
       "      <th>Grade</th>\n",
       "    </tr>\n",
       "  </thead>\n",
       "  <tbody>\n",
       "    <tr>\n",
       "      <th>0</th>\n",
       "      <td>Dan</td>\n",
       "      <td>10.0</td>\n",
       "      <td>50.0</td>\n",
       "    </tr>\n",
       "    <tr>\n",
       "      <th>1</th>\n",
       "      <td>Joann</td>\n",
       "      <td>11.5</td>\n",
       "      <td>50.0</td>\n",
       "    </tr>\n",
       "    <tr>\n",
       "      <th>2</th>\n",
       "      <td>Pedro</td>\n",
       "      <td>9.0</td>\n",
       "      <td>47.0</td>\n",
       "    </tr>\n",
       "    <tr>\n",
       "      <th>3</th>\n",
       "      <td>Rosie</td>\n",
       "      <td>16.0</td>\n",
       "      <td>97.0</td>\n",
       "    </tr>\n",
       "  </tbody>\n",
       "</table>\n",
       "</div>"
      ],
      "text/plain": [
       "    Name  StudyHours  Grade\n",
       "0    Dan        10.0   50.0\n",
       "1  Joann        11.5   50.0\n",
       "2  Pedro         9.0   47.0\n",
       "3  Rosie        16.0   97.0"
      ]
     },
     "execution_count": 19,
     "metadata": {},
     "output_type": "execute_result"
    }
   ],
   "source": [
    "# Subsetting to the first through fifth rows (remember, counting in Pandas starts at 0)\n",
    "df_students.iloc[0:4]"
   ]
  },
  {
   "cell_type": "code",
   "execution_count": 20,
   "id": "27cabf67",
   "metadata": {},
   "outputs": [
    {
     "data": {
      "text/plain": [
       "StudyHours    10.0\n",
       "Grade         50.0\n",
       "Name: 0, dtype: object"
      ]
     },
     "execution_count": 20,
     "metadata": {},
     "output_type": "execute_result"
    }
   ],
   "source": [
    "# Subsetting to the first row and 2nd and 3rd columnss\n",
    "df_students.iloc[0,[1,2]]"
   ]
  },
  {
   "cell_type": "markdown",
   "id": "31799996",
   "metadata": {},
   "source": [
    "There are often multiple ways to do the same thing in Pandas. For example, the following three statements all filter rows based on the Name column equal to 'Aisha': "
   ]
  },
  {
   "cell_type": "code",
   "execution_count": 21,
   "id": "fa1f497f",
   "metadata": {},
   "outputs": [
    {
     "data": {
      "text/html": [
       "<div>\n",
       "<style scoped>\n",
       "    .dataframe tbody tr th:only-of-type {\n",
       "        vertical-align: middle;\n",
       "    }\n",
       "\n",
       "    .dataframe tbody tr th {\n",
       "        vertical-align: top;\n",
       "    }\n",
       "\n",
       "    .dataframe thead th {\n",
       "        text-align: right;\n",
       "    }\n",
       "</style>\n",
       "<table border=\"1\" class=\"dataframe\">\n",
       "  <thead>\n",
       "    <tr style=\"text-align: right;\">\n",
       "      <th></th>\n",
       "      <th>Name</th>\n",
       "      <th>StudyHours</th>\n",
       "      <th>Grade</th>\n",
       "    </tr>\n",
       "  </thead>\n",
       "  <tbody>\n",
       "    <tr>\n",
       "      <th>21</th>\n",
       "      <td>Aisha</td>\n",
       "      <td>12.0</td>\n",
       "      <td>64.0</td>\n",
       "    </tr>\n",
       "  </tbody>\n",
       "</table>\n",
       "</div>"
      ],
      "text/plain": [
       "     Name  StudyHours  Grade\n",
       "21  Aisha        12.0   64.0"
      ]
     },
     "execution_count": 21,
     "metadata": {},
     "output_type": "execute_result"
    }
   ],
   "source": [
    "df_students.query('Name==\"Aisha\"')\n",
    "df_students[df_students.Name == 'Aisha']\n",
    "df_students[df_students['Name']=='Aisha']"
   ]
  },
  {
   "cell_type": "markdown",
   "id": "afe5ac0f",
   "metadata": {},
   "source": [
    "### Loading Pandas Dataframe and Dealing with Missing Values"
   ]
  },
  {
   "cell_type": "markdown",
   "id": "a61e5d19",
   "metadata": {},
   "source": [
    "The following code loads Pandas from a local .csv file. The !wget command runs the bash command wget to pull data from a raw Github data source. You can use it during the exercise to pull data directly from Github, as long as the url points to a similar data source. "
   ]
  },
  {
   "cell_type": "code",
   "execution_count": 22,
   "id": "63de2906",
   "metadata": {},
   "outputs": [
    {
     "name": "stdout",
     "output_type": "stream",
     "text": [
      "--2022-07-04 11:30:15--  https://raw.githubusercontent.com/MicrosoftDocs/mslearn-introduction-to-machine-learning/main/Data/ml-basics/grades.csv\n",
      "Resolving raw.githubusercontent.com (raw.githubusercontent.com)... 185.199.108.133, 185.199.109.133, 185.199.111.133, ...\n",
      "Connecting to raw.githubusercontent.com (raw.githubusercontent.com)|185.199.108.133|:443... connected.\n",
      "HTTP request sent, awaiting response... 200 OK\n",
      "Length: 322 [text/plain]\n",
      "Saving to: 'grades.csv.5'\n",
      "\n",
      "grades.csv.5        100%[===================>]     322  --.-KB/s    in 0s      \n",
      "\n",
      "2022-07-04 11:30:15 (34.1 MB/s) - 'grades.csv.5' saved [322/322]\n",
      "\n"
     ]
    }
   ],
   "source": [
    "# Importing the data to local directory\n",
    "!wget https://raw.githubusercontent.com/MicrosoftDocs/mslearn-introduction-to-machine-learning/main/Data/ml-basics/grades.csv\n",
    "# Reading the data into a Pandas dataframe\n",
    "df_students = pd.read_csv('grades.csv',delimiter=',',header='infer')"
   ]
  },
  {
   "cell_type": "code",
   "execution_count": 23,
   "id": "d05a24a6",
   "metadata": {},
   "outputs": [
    {
     "data": {
      "text/html": [
       "<div>\n",
       "<style scoped>\n",
       "    .dataframe tbody tr th:only-of-type {\n",
       "        vertical-align: middle;\n",
       "    }\n",
       "\n",
       "    .dataframe tbody tr th {\n",
       "        vertical-align: top;\n",
       "    }\n",
       "\n",
       "    .dataframe thead th {\n",
       "        text-align: right;\n",
       "    }\n",
       "</style>\n",
       "<table border=\"1\" class=\"dataframe\">\n",
       "  <thead>\n",
       "    <tr style=\"text-align: right;\">\n",
       "      <th></th>\n",
       "      <th>Name</th>\n",
       "      <th>StudyHours</th>\n",
       "      <th>Grade</th>\n",
       "    </tr>\n",
       "  </thead>\n",
       "  <tbody>\n",
       "    <tr>\n",
       "      <th>0</th>\n",
       "      <td>False</td>\n",
       "      <td>False</td>\n",
       "      <td>False</td>\n",
       "    </tr>\n",
       "    <tr>\n",
       "      <th>1</th>\n",
       "      <td>False</td>\n",
       "      <td>False</td>\n",
       "      <td>False</td>\n",
       "    </tr>\n",
       "    <tr>\n",
       "      <th>2</th>\n",
       "      <td>False</td>\n",
       "      <td>False</td>\n",
       "      <td>False</td>\n",
       "    </tr>\n",
       "    <tr>\n",
       "      <th>3</th>\n",
       "      <td>False</td>\n",
       "      <td>False</td>\n",
       "      <td>False</td>\n",
       "    </tr>\n",
       "    <tr>\n",
       "      <th>4</th>\n",
       "      <td>False</td>\n",
       "      <td>False</td>\n",
       "      <td>False</td>\n",
       "    </tr>\n",
       "  </tbody>\n",
       "</table>\n",
       "</div>"
      ],
      "text/plain": [
       "    Name  StudyHours  Grade\n",
       "0  False       False  False\n",
       "1  False       False  False\n",
       "2  False       False  False\n",
       "3  False       False  False\n",
       "4  False       False  False"
      ]
     },
     "execution_count": 23,
     "metadata": {},
     "output_type": "execute_result"
    }
   ],
   "source": [
    "# Show whether there are null values in the data, as a Boolean\n",
    "df_students.isnull().head()"
   ]
  },
  {
   "cell_type": "code",
   "execution_count": 24,
   "id": "f9faaa6d",
   "metadata": {},
   "outputs": [
    {
     "data": {
      "text/plain": [
       "Name          0\n",
       "StudyHours    1\n",
       "Grade         2\n",
       "dtype: int64"
      ]
     },
     "execution_count": 24,
     "metadata": {},
     "output_type": "execute_result"
    }
   ],
   "source": [
    "# Finding null values by column\n",
    "df_students.isnull().sum()"
   ]
  },
  {
   "cell_type": "code",
   "execution_count": 25,
   "id": "3fcdef36",
   "metadata": {},
   "outputs": [
    {
     "data": {
      "text/html": [
       "<div>\n",
       "<style scoped>\n",
       "    .dataframe tbody tr th:only-of-type {\n",
       "        vertical-align: middle;\n",
       "    }\n",
       "\n",
       "    .dataframe tbody tr th {\n",
       "        vertical-align: top;\n",
       "    }\n",
       "\n",
       "    .dataframe thead th {\n",
       "        text-align: right;\n",
       "    }\n",
       "</style>\n",
       "<table border=\"1\" class=\"dataframe\">\n",
       "  <thead>\n",
       "    <tr style=\"text-align: right;\">\n",
       "      <th></th>\n",
       "      <th>Name</th>\n",
       "      <th>StudyHours</th>\n",
       "      <th>Grade</th>\n",
       "    </tr>\n",
       "  </thead>\n",
       "  <tbody>\n",
       "    <tr>\n",
       "      <th>22</th>\n",
       "      <td>Bill</td>\n",
       "      <td>8.0</td>\n",
       "      <td>NaN</td>\n",
       "    </tr>\n",
       "    <tr>\n",
       "      <th>23</th>\n",
       "      <td>Ted</td>\n",
       "      <td>NaN</td>\n",
       "      <td>NaN</td>\n",
       "    </tr>\n",
       "  </tbody>\n",
       "</table>\n",
       "</div>"
      ],
      "text/plain": [
       "    Name  StudyHours  Grade\n",
       "22  Bill         8.0    NaN\n",
       "23   Ted         NaN    NaN"
      ]
     },
     "execution_count": 25,
     "metadata": {},
     "output_type": "execute_result"
    }
   ],
   "source": [
    "# Showing rows with null values\n",
    "df_students[df_students.isnull().any(axis=1)]"
   ]
  },
  {
   "cell_type": "code",
   "execution_count": 26,
   "id": "4749faca",
   "metadata": {},
   "outputs": [],
   "source": [
    "# Filling null values with the mean of that column\n",
    "df_students.StudyHours = df_students.StudyHours.fillna(df_students.StudyHours.mean())\n",
    "df_students.Grade = df_students.Grade.fillna(df_students.Grade.mean())"
   ]
  },
  {
   "cell_type": "code",
   "execution_count": 27,
   "id": "19f4dcbf",
   "metadata": {},
   "outputs": [
    {
     "data": {
      "text/plain": [
       "Name          0\n",
       "StudyHours    0\n",
       "Grade         0\n",
       "dtype: int64"
      ]
     },
     "execution_count": 27,
     "metadata": {},
     "output_type": "execute_result"
    }
   ],
   "source": [
    "# Aftering having filling null values with those means, showing null values again by column: \n",
    "df_students.isnull().sum()"
   ]
  },
  {
   "cell_type": "markdown",
   "id": "f72afd30",
   "metadata": {},
   "source": [
    "### Creating a Relevant New Feature\n",
    "\n",
    "Even at this early stage, it might be helpful to create a new feature, to better understand patterns in your data. Feature engineering is the art/science of creating new features in datasets based on what will be helpful in analyses. There are entire books written on feature engineering, and it's possibly the most important part of being a data scientist, and the part in which domain-area expertise is most important. \n",
    "\n",
    "For now, I'll just show the basic syntax for creating a new column (i.e., a new feature) in a Pandas dataframe based on existing data. In this case, we'll create a new column that shows whether or not students passed, based on their grades: "
   ]
  },
  {
   "cell_type": "code",
   "execution_count": 28,
   "id": "9d2bac24",
   "metadata": {},
   "outputs": [
    {
     "data": {
      "text/html": [
       "<div>\n",
       "<style scoped>\n",
       "    .dataframe tbody tr th:only-of-type {\n",
       "        vertical-align: middle;\n",
       "    }\n",
       "\n",
       "    .dataframe tbody tr th {\n",
       "        vertical-align: top;\n",
       "    }\n",
       "\n",
       "    .dataframe thead th {\n",
       "        text-align: right;\n",
       "    }\n",
       "</style>\n",
       "<table border=\"1\" class=\"dataframe\">\n",
       "  <thead>\n",
       "    <tr style=\"text-align: right;\">\n",
       "      <th></th>\n",
       "      <th>Name</th>\n",
       "      <th>StudyHours</th>\n",
       "      <th>Grade</th>\n",
       "      <th>Pass</th>\n",
       "    </tr>\n",
       "  </thead>\n",
       "  <tbody>\n",
       "    <tr>\n",
       "      <th>0</th>\n",
       "      <td>Dan</td>\n",
       "      <td>10.00</td>\n",
       "      <td>50.0</td>\n",
       "      <td>False</td>\n",
       "    </tr>\n",
       "    <tr>\n",
       "      <th>1</th>\n",
       "      <td>Joann</td>\n",
       "      <td>11.50</td>\n",
       "      <td>50.0</td>\n",
       "      <td>False</td>\n",
       "    </tr>\n",
       "    <tr>\n",
       "      <th>2</th>\n",
       "      <td>Pedro</td>\n",
       "      <td>9.00</td>\n",
       "      <td>47.0</td>\n",
       "      <td>False</td>\n",
       "    </tr>\n",
       "    <tr>\n",
       "      <th>3</th>\n",
       "      <td>Rosie</td>\n",
       "      <td>16.00</td>\n",
       "      <td>97.0</td>\n",
       "      <td>True</td>\n",
       "    </tr>\n",
       "    <tr>\n",
       "      <th>4</th>\n",
       "      <td>Ethan</td>\n",
       "      <td>9.25</td>\n",
       "      <td>49.0</td>\n",
       "      <td>False</td>\n",
       "    </tr>\n",
       "  </tbody>\n",
       "</table>\n",
       "</div>"
      ],
      "text/plain": [
       "    Name  StudyHours  Grade   Pass\n",
       "0    Dan       10.00   50.0  False\n",
       "1  Joann       11.50   50.0  False\n",
       "2  Pedro        9.00   47.0  False\n",
       "3  Rosie       16.00   97.0   True\n",
       "4  Ethan        9.25   49.0  False"
      ]
     },
     "execution_count": 28,
     "metadata": {},
     "output_type": "execute_result"
    }
   ],
   "source": [
    "# Creating the Pass column based on whether the student's grade was greater than 60\n",
    "df_students[\"Pass\"] = df_students['Grade']>=60\n",
    "\n",
    "#Taking a peak to make sure the variable did what we wanted it to\n",
    "df_students.head()"
   ]
  },
  {
   "cell_type": "markdown",
   "id": "04195466",
   "metadata": {},
   "source": [
    "### Investigate and Change Data Types\n",
    "\n",
    "Understanding the datatypes of your columns is critical. Before, for example, you do time series analysis, you'll want to make sure that a column is a np.datetime64 type. Even if a column is filled with True and False's as values, you'll only be able to treat it as a Boolean is the type is Boolean, rather than string. The following script shows how you might investigate and change datatypes: "
   ]
  },
  {
   "cell_type": "code",
   "execution_count": 29,
   "id": "2c73f46d",
   "metadata": {},
   "outputs": [
    {
     "data": {
      "text/plain": [
       "Name           object\n",
       "StudyHours    float64\n",
       "Grade         float64\n",
       "Pass             bool\n",
       "dtype: object"
      ]
     },
     "execution_count": 29,
     "metadata": {},
     "output_type": "execute_result"
    }
   ],
   "source": [
    "# Show the datatypes\n",
    "df_students.dtypes"
   ]
  },
  {
   "cell_type": "code",
   "execution_count": 30,
   "id": "ce551f28",
   "metadata": {},
   "outputs": [
    {
     "data": {
      "text/plain": [
       "True"
      ]
     },
     "execution_count": 30,
     "metadata": {},
     "output_type": "execute_result"
    }
   ],
   "source": [
    "# Use a Boolean to test whether a datatype is a Boolean \n",
    "df_students.StudyHours.dtypes == 'float64'"
   ]
  },
  {
   "cell_type": "code",
   "execution_count": 31,
   "id": "f5964c04",
   "metadata": {},
   "outputs": [
    {
     "name": "stdout",
     "output_type": "stream",
     "text": [
      "This is the dtype of Pass now: string\n"
     ]
    }
   ],
   "source": [
    "# Convert that Boolean to a string\n",
    "df_students['Pass'] = df_students['Pass'].astype('string')\n",
    "# Checking the new datatype\n",
    "print(f\"This is the dtype of Pass now: {df_students.Pass.dtypes}\")\n",
    "# Converting it back to a Boolean\n",
    "df_students['Pass'] = df_students['Pass'].astype('string')"
   ]
  },
  {
   "cell_type": "markdown",
   "id": "5b7ee341",
   "metadata": {},
   "source": [
    "### Group and sort data\n",
    "\n",
    "The following code shows how you might group and sort data based on various criteria. This can be helpful to detect patterns early on. In this case, we'll group and sort to examine the relationship between grades, study hours, and whether or not the students passed (our new features): "
   ]
  },
  {
   "cell_type": "code",
   "execution_count": 32,
   "id": "65dabaf8",
   "metadata": {},
   "outputs": [
    {
     "data": {
      "text/plain": [
       "Pass\n",
       "False    17\n",
       "True      7\n",
       "Name: Name, dtype: int64"
      ]
     },
     "execution_count": 32,
     "metadata": {},
     "output_type": "execute_result"
    }
   ],
   "source": [
    "# Grouping students by whether or not they passed\n",
    "df_students.groupby(df_students.Pass).Name.count()"
   ]
  },
  {
   "cell_type": "code",
   "execution_count": 33,
   "id": "7685102f",
   "metadata": {},
   "outputs": [
    {
     "name": "stderr",
     "output_type": "stream",
     "text": [
      "/var/folders/x3/d55ycfh10xl3qzrrp818k8xw0000gn/T/ipykernel_54304/4153175998.py:2: FutureWarning: Indexing with multiple keys (implicitly converted to a tuple of keys) will be deprecated, use a list instead.\n",
      "  df_students.groupby(df_students.Pass)['StudyHours', 'Grade'].mean()\n"
     ]
    },
    {
     "data": {
      "text/html": [
       "<div>\n",
       "<style scoped>\n",
       "    .dataframe tbody tr th:only-of-type {\n",
       "        vertical-align: middle;\n",
       "    }\n",
       "\n",
       "    .dataframe tbody tr th {\n",
       "        vertical-align: top;\n",
       "    }\n",
       "\n",
       "    .dataframe thead th {\n",
       "        text-align: right;\n",
       "    }\n",
       "</style>\n",
       "<table border=\"1\" class=\"dataframe\">\n",
       "  <thead>\n",
       "    <tr style=\"text-align: right;\">\n",
       "      <th></th>\n",
       "      <th>StudyHours</th>\n",
       "      <th>Grade</th>\n",
       "    </tr>\n",
       "    <tr>\n",
       "      <th>Pass</th>\n",
       "      <th></th>\n",
       "      <th></th>\n",
       "    </tr>\n",
       "  </thead>\n",
       "  <tbody>\n",
       "    <tr>\n",
       "      <th>False</th>\n",
       "      <td>8.83312</td>\n",
       "      <td>39.315508</td>\n",
       "    </tr>\n",
       "    <tr>\n",
       "      <th>True</th>\n",
       "      <td>14.25000</td>\n",
       "      <td>73.142857</td>\n",
       "    </tr>\n",
       "  </tbody>\n",
       "</table>\n",
       "</div>"
      ],
      "text/plain": [
       "       StudyHours      Grade\n",
       "Pass                        \n",
       "False     8.83312  39.315508\n",
       "True     14.25000  73.142857"
      ]
     },
     "execution_count": 33,
     "metadata": {},
     "output_type": "execute_result"
    }
   ],
   "source": [
    "# Grouping students by whether or not they passed and showing their mean grades and Study Hours\n",
    "df_students.groupby(df_students.Pass)['StudyHours', 'Grade'].mean()"
   ]
  },
  {
   "cell_type": "code",
   "execution_count": 34,
   "id": "ef51a833",
   "metadata": {},
   "outputs": [
    {
     "data": {
      "text/html": [
       "<div>\n",
       "<style scoped>\n",
       "    .dataframe tbody tr th:only-of-type {\n",
       "        vertical-align: middle;\n",
       "    }\n",
       "\n",
       "    .dataframe tbody tr th {\n",
       "        vertical-align: top;\n",
       "    }\n",
       "\n",
       "    .dataframe thead th {\n",
       "        text-align: right;\n",
       "    }\n",
       "</style>\n",
       "<table border=\"1\" class=\"dataframe\">\n",
       "  <thead>\n",
       "    <tr style=\"text-align: right;\">\n",
       "      <th></th>\n",
       "      <th>Name</th>\n",
       "      <th>StudyHours</th>\n",
       "      <th>Grade</th>\n",
       "      <th>Pass</th>\n",
       "    </tr>\n",
       "  </thead>\n",
       "  <tbody>\n",
       "    <tr>\n",
       "      <th>3</th>\n",
       "      <td>Rosie</td>\n",
       "      <td>16.000000</td>\n",
       "      <td>97.000000</td>\n",
       "      <td>True</td>\n",
       "    </tr>\n",
       "    <tr>\n",
       "      <th>10</th>\n",
       "      <td>Francesca</td>\n",
       "      <td>15.500000</td>\n",
       "      <td>82.000000</td>\n",
       "      <td>True</td>\n",
       "    </tr>\n",
       "    <tr>\n",
       "      <th>9</th>\n",
       "      <td>Giovanni</td>\n",
       "      <td>14.500000</td>\n",
       "      <td>74.000000</td>\n",
       "      <td>True</td>\n",
       "    </tr>\n",
       "    <tr>\n",
       "      <th>14</th>\n",
       "      <td>Jenny</td>\n",
       "      <td>15.500000</td>\n",
       "      <td>70.000000</td>\n",
       "      <td>True</td>\n",
       "    </tr>\n",
       "    <tr>\n",
       "      <th>21</th>\n",
       "      <td>Aisha</td>\n",
       "      <td>12.000000</td>\n",
       "      <td>64.000000</td>\n",
       "      <td>True</td>\n",
       "    </tr>\n",
       "    <tr>\n",
       "      <th>20</th>\n",
       "      <td>Daniel</td>\n",
       "      <td>12.500000</td>\n",
       "      <td>63.000000</td>\n",
       "      <td>True</td>\n",
       "    </tr>\n",
       "    <tr>\n",
       "      <th>11</th>\n",
       "      <td>Rajab</td>\n",
       "      <td>13.750000</td>\n",
       "      <td>62.000000</td>\n",
       "      <td>True</td>\n",
       "    </tr>\n",
       "    <tr>\n",
       "      <th>6</th>\n",
       "      <td>Frederic</td>\n",
       "      <td>11.500000</td>\n",
       "      <td>53.000000</td>\n",
       "      <td>False</td>\n",
       "    </tr>\n",
       "    <tr>\n",
       "      <th>19</th>\n",
       "      <td>Skye</td>\n",
       "      <td>12.000000</td>\n",
       "      <td>52.000000</td>\n",
       "      <td>False</td>\n",
       "    </tr>\n",
       "    <tr>\n",
       "      <th>0</th>\n",
       "      <td>Dan</td>\n",
       "      <td>10.000000</td>\n",
       "      <td>50.000000</td>\n",
       "      <td>False</td>\n",
       "    </tr>\n",
       "    <tr>\n",
       "      <th>1</th>\n",
       "      <td>Joann</td>\n",
       "      <td>11.500000</td>\n",
       "      <td>50.000000</td>\n",
       "      <td>False</td>\n",
       "    </tr>\n",
       "    <tr>\n",
       "      <th>22</th>\n",
       "      <td>Bill</td>\n",
       "      <td>8.000000</td>\n",
       "      <td>49.181818</td>\n",
       "      <td>False</td>\n",
       "    </tr>\n",
       "    <tr>\n",
       "      <th>23</th>\n",
       "      <td>Ted</td>\n",
       "      <td>10.413043</td>\n",
       "      <td>49.181818</td>\n",
       "      <td>False</td>\n",
       "    </tr>\n",
       "    <tr>\n",
       "      <th>4</th>\n",
       "      <td>Ethan</td>\n",
       "      <td>9.250000</td>\n",
       "      <td>49.000000</td>\n",
       "      <td>False</td>\n",
       "    </tr>\n",
       "    <tr>\n",
       "      <th>18</th>\n",
       "      <td>Anila</td>\n",
       "      <td>10.000000</td>\n",
       "      <td>48.000000</td>\n",
       "      <td>False</td>\n",
       "    </tr>\n",
       "    <tr>\n",
       "      <th>2</th>\n",
       "      <td>Pedro</td>\n",
       "      <td>9.000000</td>\n",
       "      <td>47.000000</td>\n",
       "      <td>False</td>\n",
       "    </tr>\n",
       "    <tr>\n",
       "      <th>7</th>\n",
       "      <td>Jimmie</td>\n",
       "      <td>9.000000</td>\n",
       "      <td>42.000000</td>\n",
       "      <td>False</td>\n",
       "    </tr>\n",
       "    <tr>\n",
       "      <th>12</th>\n",
       "      <td>Naiyana</td>\n",
       "      <td>9.000000</td>\n",
       "      <td>37.000000</td>\n",
       "      <td>False</td>\n",
       "    </tr>\n",
       "    <tr>\n",
       "      <th>16</th>\n",
       "      <td>Helena</td>\n",
       "      <td>9.000000</td>\n",
       "      <td>36.000000</td>\n",
       "      <td>False</td>\n",
       "    </tr>\n",
       "    <tr>\n",
       "      <th>17</th>\n",
       "      <td>Ismat</td>\n",
       "      <td>6.000000</td>\n",
       "      <td>35.000000</td>\n",
       "      <td>False</td>\n",
       "    </tr>\n",
       "    <tr>\n",
       "      <th>15</th>\n",
       "      <td>Jakeem</td>\n",
       "      <td>8.000000</td>\n",
       "      <td>27.000000</td>\n",
       "      <td>False</td>\n",
       "    </tr>\n",
       "    <tr>\n",
       "      <th>8</th>\n",
       "      <td>Rhonda</td>\n",
       "      <td>8.500000</td>\n",
       "      <td>26.000000</td>\n",
       "      <td>False</td>\n",
       "    </tr>\n",
       "    <tr>\n",
       "      <th>13</th>\n",
       "      <td>Kian</td>\n",
       "      <td>8.000000</td>\n",
       "      <td>15.000000</td>\n",
       "      <td>False</td>\n",
       "    </tr>\n",
       "    <tr>\n",
       "      <th>5</th>\n",
       "      <td>Vicky</td>\n",
       "      <td>1.000000</td>\n",
       "      <td>3.000000</td>\n",
       "      <td>False</td>\n",
       "    </tr>\n",
       "  </tbody>\n",
       "</table>\n",
       "</div>"
      ],
      "text/plain": [
       "         Name  StudyHours      Grade   Pass\n",
       "3       Rosie   16.000000  97.000000   True\n",
       "10  Francesca   15.500000  82.000000   True\n",
       "9    Giovanni   14.500000  74.000000   True\n",
       "14      Jenny   15.500000  70.000000   True\n",
       "21      Aisha   12.000000  64.000000   True\n",
       "20     Daniel   12.500000  63.000000   True\n",
       "11      Rajab   13.750000  62.000000   True\n",
       "6    Frederic   11.500000  53.000000  False\n",
       "19       Skye   12.000000  52.000000  False\n",
       "0         Dan   10.000000  50.000000  False\n",
       "1       Joann   11.500000  50.000000  False\n",
       "22       Bill    8.000000  49.181818  False\n",
       "23        Ted   10.413043  49.181818  False\n",
       "4       Ethan    9.250000  49.000000  False\n",
       "18      Anila   10.000000  48.000000  False\n",
       "2       Pedro    9.000000  47.000000  False\n",
       "7      Jimmie    9.000000  42.000000  False\n",
       "12    Naiyana    9.000000  37.000000  False\n",
       "16     Helena    9.000000  36.000000  False\n",
       "17      Ismat    6.000000  35.000000  False\n",
       "15     Jakeem    8.000000  27.000000  False\n",
       "8      Rhonda    8.500000  26.000000  False\n",
       "13       Kian    8.000000  15.000000  False\n",
       "5       Vicky    1.000000   3.000000  False"
      ]
     },
     "execution_count": 34,
     "metadata": {},
     "output_type": "execute_result"
    }
   ],
   "source": [
    "# Sorting students by grade\n",
    "df_students.sort_values('Grade', ascending=False)"
   ]
  },
  {
   "cell_type": "markdown",
   "id": "5e0bbc9b",
   "metadata": {},
   "source": [
    "Clearly, there's some sort of relationship between hours studied, grades, and whether a student passed! Who knew. "
   ]
  },
  {
   "cell_type": "markdown",
   "id": "72b03802",
   "metadata": {},
   "source": [
    "### Using Scikit-Learn to Normalize Data"
   ]
  },
  {
   "cell_type": "markdown",
   "id": "da76f8b0",
   "metadata": {},
   "source": [
    "In some analyses, for example, deep learning, you may want to normalize columns. You can easily do this arithmetically, but it may be easier and more scalable to do it with a Scikit-learn MinMaxScaler object, especially because you would be able to easily make that a step within an SCikit-learn pipeline. \n",
    "\n",
    "This is just one of the many transformations that Scikit-learn can do to prepare a dataset for analyses. "
   ]
  },
  {
   "cell_type": "code",
   "execution_count": 35,
   "id": "3d2f63d7",
   "metadata": {},
   "outputs": [
    {
     "data": {
      "text/html": [
       "<div>\n",
       "<style scoped>\n",
       "    .dataframe tbody tr th:only-of-type {\n",
       "        vertical-align: middle;\n",
       "    }\n",
       "\n",
       "    .dataframe tbody tr th {\n",
       "        vertical-align: top;\n",
       "    }\n",
       "\n",
       "    .dataframe thead th {\n",
       "        text-align: right;\n",
       "    }\n",
       "</style>\n",
       "<table border=\"1\" class=\"dataframe\">\n",
       "  <thead>\n",
       "    <tr style=\"text-align: right;\">\n",
       "      <th></th>\n",
       "      <th>Name</th>\n",
       "      <th>Grade</th>\n",
       "      <th>StudyHours</th>\n",
       "    </tr>\n",
       "  </thead>\n",
       "  <tbody>\n",
       "    <tr>\n",
       "      <th>0</th>\n",
       "      <td>Dan</td>\n",
       "      <td>0.426829</td>\n",
       "      <td>0.400000</td>\n",
       "    </tr>\n",
       "    <tr>\n",
       "      <th>1</th>\n",
       "      <td>Joann</td>\n",
       "      <td>0.426829</td>\n",
       "      <td>0.550000</td>\n",
       "    </tr>\n",
       "    <tr>\n",
       "      <th>2</th>\n",
       "      <td>Pedro</td>\n",
       "      <td>0.390244</td>\n",
       "      <td>0.300000</td>\n",
       "    </tr>\n",
       "    <tr>\n",
       "      <th>3</th>\n",
       "      <td>Rosie</td>\n",
       "      <td>1.000000</td>\n",
       "      <td>1.000000</td>\n",
       "    </tr>\n",
       "    <tr>\n",
       "      <th>4</th>\n",
       "      <td>Ethan</td>\n",
       "      <td>0.414634</td>\n",
       "      <td>0.325000</td>\n",
       "    </tr>\n",
       "    <tr>\n",
       "      <th>6</th>\n",
       "      <td>Frederic</td>\n",
       "      <td>0.463415</td>\n",
       "      <td>0.550000</td>\n",
       "    </tr>\n",
       "    <tr>\n",
       "      <th>7</th>\n",
       "      <td>Jimmie</td>\n",
       "      <td>0.329268</td>\n",
       "      <td>0.300000</td>\n",
       "    </tr>\n",
       "    <tr>\n",
       "      <th>8</th>\n",
       "      <td>Rhonda</td>\n",
       "      <td>0.134146</td>\n",
       "      <td>0.250000</td>\n",
       "    </tr>\n",
       "    <tr>\n",
       "      <th>9</th>\n",
       "      <td>Giovanni</td>\n",
       "      <td>0.719512</td>\n",
       "      <td>0.850000</td>\n",
       "    </tr>\n",
       "    <tr>\n",
       "      <th>10</th>\n",
       "      <td>Francesca</td>\n",
       "      <td>0.817073</td>\n",
       "      <td>0.950000</td>\n",
       "    </tr>\n",
       "    <tr>\n",
       "      <th>11</th>\n",
       "      <td>Rajab</td>\n",
       "      <td>0.573171</td>\n",
       "      <td>0.775000</td>\n",
       "    </tr>\n",
       "    <tr>\n",
       "      <th>12</th>\n",
       "      <td>Naiyana</td>\n",
       "      <td>0.268293</td>\n",
       "      <td>0.300000</td>\n",
       "    </tr>\n",
       "    <tr>\n",
       "      <th>13</th>\n",
       "      <td>Kian</td>\n",
       "      <td>0.000000</td>\n",
       "      <td>0.200000</td>\n",
       "    </tr>\n",
       "    <tr>\n",
       "      <th>14</th>\n",
       "      <td>Jenny</td>\n",
       "      <td>0.670732</td>\n",
       "      <td>0.950000</td>\n",
       "    </tr>\n",
       "    <tr>\n",
       "      <th>15</th>\n",
       "      <td>Jakeem</td>\n",
       "      <td>0.146341</td>\n",
       "      <td>0.200000</td>\n",
       "    </tr>\n",
       "    <tr>\n",
       "      <th>16</th>\n",
       "      <td>Helena</td>\n",
       "      <td>0.256098</td>\n",
       "      <td>0.300000</td>\n",
       "    </tr>\n",
       "    <tr>\n",
       "      <th>17</th>\n",
       "      <td>Ismat</td>\n",
       "      <td>0.243902</td>\n",
       "      <td>0.000000</td>\n",
       "    </tr>\n",
       "    <tr>\n",
       "      <th>18</th>\n",
       "      <td>Anila</td>\n",
       "      <td>0.402439</td>\n",
       "      <td>0.400000</td>\n",
       "    </tr>\n",
       "    <tr>\n",
       "      <th>19</th>\n",
       "      <td>Skye</td>\n",
       "      <td>0.451220</td>\n",
       "      <td>0.600000</td>\n",
       "    </tr>\n",
       "    <tr>\n",
       "      <th>20</th>\n",
       "      <td>Daniel</td>\n",
       "      <td>0.585366</td>\n",
       "      <td>0.650000</td>\n",
       "    </tr>\n",
       "    <tr>\n",
       "      <th>21</th>\n",
       "      <td>Aisha</td>\n",
       "      <td>0.597561</td>\n",
       "      <td>0.600000</td>\n",
       "    </tr>\n",
       "    <tr>\n",
       "      <th>22</th>\n",
       "      <td>Bill</td>\n",
       "      <td>0.416851</td>\n",
       "      <td>0.200000</td>\n",
       "    </tr>\n",
       "    <tr>\n",
       "      <th>23</th>\n",
       "      <td>Ted</td>\n",
       "      <td>0.416851</td>\n",
       "      <td>0.441304</td>\n",
       "    </tr>\n",
       "  </tbody>\n",
       "</table>\n",
       "</div>"
      ],
      "text/plain": [
       "         Name     Grade  StudyHours\n",
       "0         Dan  0.426829    0.400000\n",
       "1       Joann  0.426829    0.550000\n",
       "2       Pedro  0.390244    0.300000\n",
       "3       Rosie  1.000000    1.000000\n",
       "4       Ethan  0.414634    0.325000\n",
       "6    Frederic  0.463415    0.550000\n",
       "7      Jimmie  0.329268    0.300000\n",
       "8      Rhonda  0.134146    0.250000\n",
       "9    Giovanni  0.719512    0.850000\n",
       "10  Francesca  0.817073    0.950000\n",
       "11      Rajab  0.573171    0.775000\n",
       "12    Naiyana  0.268293    0.300000\n",
       "13       Kian  0.000000    0.200000\n",
       "14      Jenny  0.670732    0.950000\n",
       "15     Jakeem  0.146341    0.200000\n",
       "16     Helena  0.256098    0.300000\n",
       "17      Ismat  0.243902    0.000000\n",
       "18      Anila  0.402439    0.400000\n",
       "19       Skye  0.451220    0.600000\n",
       "20     Daniel  0.585366    0.650000\n",
       "21      Aisha  0.597561    0.600000\n",
       "22       Bill  0.416851    0.200000\n",
       "23        Ted  0.416851    0.441304"
      ]
     },
     "execution_count": 35,
     "metadata": {},
     "output_type": "execute_result"
    }
   ],
   "source": [
    "from sklearn.preprocessing import MinMaxScaler\n",
    "\n",
    "# Creating a sample of data students where StudyHours are just >1 \n",
    "df_sample = df_students[df_students['StudyHours']>1]\n",
    "\n",
    "# Get a scaler object\n",
    "scaler = MinMaxScaler()\n",
    "\n",
    "# Create a new dataframe for the scaled values\n",
    "df_normalized = df_sample[['Name', 'Grade', 'StudyHours']].copy()\n",
    "\n",
    "# Normalize the numeric columns\n",
    "df_normalized[['Grade','StudyHours']] = scaler.fit_transform(df_normalized[['Grade','StudyHours']])\n",
    "\n",
    "df_normalized"
   ]
  },
  {
   "cell_type": "markdown",
   "id": "2172f3c8",
   "metadata": {},
   "source": [
    "# Visualize Data with Matplotlib\n",
    "\n",
    "All right, let's get visualizing! Visualizations are critical for data scientists to understand data and detect patterns, and they are even more important for clients, who may or may not have the technical backgrounds or the time to understand strictly-numerical analyses. \n",
    "\n",
    "In Matplot, the basic object is the \"pyplot\", which, once created, can be added to and tweaked in various ways for the best possible visualization. Multiple plots can also be rendered in \"figures\", to show them together in neat, organized ways. \n",
    "\n"
   ]
  },
  {
   "cell_type": "markdown",
   "id": "5b7c9bdd",
   "metadata": {},
   "source": [
    "The following code creates a simple plot using the students data we've been manipulating. "
   ]
  },
  {
   "cell_type": "code",
   "execution_count": 36,
   "id": "51cd5e6f",
   "metadata": {},
   "outputs": [
    {
     "data": {
      "image/png": "[encoded data removed]",
      "text/plain": [
       "<Figure size 432x288 with 1 Axes>"
      ]
     },
     "metadata": {
      "needs_background": "light"
     },
     "output_type": "display_data"
    }
   ],
   "source": [
    "%matplotlib inline \n",
    "# importing matplot\n",
    "from matplotlib import pyplot as plt\n",
    "# Add a bar chart to the pyplot\n",
    "plt.bar(x=df_students.Name, height = df_students.Grade)\n",
    "# Showing the plot\n",
    "plt.show()"
   ]
  },
  {
   "cell_type": "markdown",
   "id": "62dd3616",
   "metadata": {},
   "source": [
    "As you can see, this plot is nowhere near client-ready. The following code shows several transformation to the pyplot object to make it more palatable: "
   ]
  },
  {
   "cell_type": "code",
   "execution_count": 37,
   "id": "a23fda02",
   "metadata": {},
   "outputs": [
    {
     "data": {
      "image/png": "[encoded data removed]",
      "text/plain": [
       "<Figure size 432x288 with 1 Axes>"
      ]
     },
     "metadata": {
      "needs_background": "light"
     },
     "output_type": "display_data"
    }
   ],
   "source": [
    "# Create a bar plot of name vs grade\n",
    "plt.bar(x=df_students.Name, height=df_students.Grade, color='orange')\n",
    "\n",
    "# Adding a title\n",
    "plt.title('Student Grades')\n",
    "# Adding a x-axis label\n",
    "plt.xlabel('Student')\n",
    "# Adding a y-axis label\n",
    "plt.ylabel('Grade')\n",
    "# Adding a grid\n",
    "plt.grid(color='#95a5a6', linestyle='--', linewidth=2, axis='y', alpha=0.7)\n",
    "# Rotating the x-labels 90 degrees so they don't overlap\n",
    "plt.xticks(rotation=90)\n",
    "\n",
    "# Display the plot\n",
    "plt.show()"
   ]
  },
  {
   "cell_type": "markdown",
   "id": "065e89b9",
   "metadata": {},
   "source": [
    "#### Using a figure to render multiple pyplots\n",
    "\n",
    "The following code uses a figure to render multiple pyplots together: "
   ]
  },
  {
   "cell_type": "code",
   "execution_count": 38,
   "id": "004722de",
   "metadata": {},
   "outputs": [
    {
     "name": "stderr",
     "output_type": "stream",
     "text": [
      "/var/folders/x3/d55ycfh10xl3qzrrp818k8xw0000gn/T/ipykernel_54304/471921506.py:9: UserWarning: FixedFormatter should only be used together with FixedLocator\n",
      "  ax[0].set_xticklabels(df_students.Name, rotation=90)\n",
      "/var/folders/x3/d55ycfh10xl3qzrrp818k8xw0000gn/T/ipykernel_54304/471921506.py:24: UserWarning: Matplotlib is currently using module://matplotlib_inline.backend_inline, which is a non-GUI backend, so cannot show the figure.\n",
      "  fig.show()\n"
     ]
    },
    {
     "data": {
      "image/png": "[encoded data removed]",
      "text/plain": [
       "<Figure size 720x288 with 2 Axes>"
      ]
     },
     "metadata": {
      "needs_background": "light"
     },
     "output_type": "display_data"
    }
   ],
   "source": [
    "# Create a figure for 2 subplots (1 row, 2 columns)\n",
    "fig, ax = plt.subplots(1, 2, figsize = (10,4))\n",
    "\n",
    "# Create a bar plot of name vs grade on the first axis\n",
    "ax[0].bar(x=df_students.Name, height=df_students.Grade, color='orange')\n",
    "# Settling title for the bar plot\n",
    "ax[0].set_title('Grades')\n",
    "# Rotating the x-labels of the bar plot\n",
    "ax[0].set_xticklabels(df_students.Name, rotation=90)\n",
    "\n",
    "# Create a pass counts variable\n",
    "pass_counts = df_students['Pass'].value_counts()\n",
    "# Add a pie chart of pass counts to the second axis\n",
    "ax[1].pie(pass_counts, labels=pass_counts)\n",
    "# Setting the title for the pie chart\n",
    "ax[1].set_title('Passing Grades')\n",
    "# Creating a legend fo the pie chart\n",
    "ax[1].legend(pass_counts.keys().tolist())\n",
    "\n",
    "# Add a title to the Figure\n",
    "fig.suptitle('Student Data')\n",
    "\n",
    "# Show the figure\n",
    "fig.show()"
   ]
  },
  {
   "cell_type": "markdown",
   "id": "294c6430",
   "metadata": {},
   "source": [
    "### Applying Description Statistics to Pyplots\n",
    "\n",
    "It can also be helpful to show basic descriptive statistics on pyplots. For example, consider the following histogram of the \"Grade\" variable: "
   ]
  },
  {
   "cell_type": "code",
   "execution_count": 39,
   "id": "e8086c95",
   "metadata": {},
   "outputs": [
    {
     "name": "stderr",
     "output_type": "stream",
     "text": [
      "/var/folders/x3/d55ycfh10xl3qzrrp818k8xw0000gn/T/ipykernel_54304/1171644759.py:16: UserWarning: Matplotlib is currently using module://matplotlib_inline.backend_inline, which is a non-GUI backend, so cannot show the figure.\n",
      "  fig.show()\n"
     ]
    },
    {
     "data": {
      "image/png": "[encoded data removed]",
      "text/plain": [
       "<Figure size 720x288 with 1 Axes>"
      ]
     },
     "metadata": {
      "needs_background": "light"
     },
     "output_type": "display_data"
    }
   ],
   "source": [
    "# Re-reading in df_students to show without transformations\n",
    "df_students = pd.read_csv('grades.csv',delimiter=',',header='infer')\n",
    "# Creating an arry just for Grade data\n",
    "var_data = df_students['Grade']\n",
    "# Creating a figure with wide dimensions\n",
    "fig = plt.figure(figsize=(10,4))\n",
    "# Adding a histogram to the plot\n",
    "plt.hist(var_data)\n",
    "# Setting the plot title\n",
    "plt.title('Data Distribution')\n",
    "# Seeing the x-label\n",
    "plt.xlabel('Value')\n",
    "# Setting the y-label\n",
    "plt.ylabel('Frequency')\n",
    "# Showing the plot\n",
    "fig.show()"
   ]
  },
  {
   "cell_type": "markdown",
   "id": "b884b30a",
   "metadata": {},
   "source": [
    "Using matplot, we can add lines that show critical descriptive statistics, such as mean and median to the histogram: "
   ]
  },
  {
   "cell_type": "code",
   "execution_count": 40,
   "id": "7187306f",
   "metadata": {},
   "outputs": [
    {
     "name": "stderr",
     "output_type": "stream",
     "text": [
      "/var/folders/x3/d55ycfh10xl3qzrrp818k8xw0000gn/T/ipykernel_54304/2057391826.py:30: UserWarning: Matplotlib is currently using module://matplotlib_inline.backend_inline, which is a non-GUI backend, so cannot show the figure.\n",
      "  fig.show()\n"
     ]
    },
    {
     "data": {
      "image/png": "[encoded data removed]",
      "text/plain": [
       "<Figure size 720x288 with 1 Axes>"
      ]
     },
     "metadata": {
      "needs_background": "light"
     },
     "output_type": "display_data"
    }
   ],
   "source": [
    "# Create a histogram\n",
    "var = df_students['Grade']\n",
    "\n",
    "# Get the statistics\n",
    "min_val = var.min()\n",
    "max_val = var.max()\n",
    "mean_val = var.mean()\n",
    "med_val = var.median()\n",
    "mod_val = var.mode()[0]\n",
    "\n",
    "#Create a Figure\n",
    "fig = plt.figure(figsize=(10,4))\n",
    "\n",
    "# Plot a histogram\n",
    "plt.hist(var)\n",
    "\n",
    "# Add the lines\n",
    "plt.axvline(x=min_val, color = 'gray', linestyle = 'dashed', linewidth = 2)\n",
    "plt.axvline(x=mean_val, color = 'cyan', linestyle='dashed', linewidth = 2)\n",
    "plt.axvline(x=med_val, color = 'red', linestyle='dashed', linewidth = 2)\n",
    "plt.axvline(x=mod_val, color = 'yellow', linestyle='dashed', linewidth = 2)\n",
    "plt.axvline(x=max_val, color = 'gray', linestyle='dashed', linewidth = 2)\n",
    "\n",
    "# Add titles and labels\n",
    "plt.title('Data Distribution')\n",
    "plt.xlabel('Value')\n",
    "plt.ylabel('Frequency')\n",
    "\n",
    "# Show the figure\n",
    "fig.show()"
   ]
  },
  {
   "cell_type": "markdown",
   "id": "97cc1423",
   "metadata": {},
   "source": [
    "### Iterate on colums to make data visualization more efficient and complete \n",
    "\n",
    "You can also iterate on columns to produce visualizations for each column. For example (and we'll import a more complex dataset for these), see the following visualizations that create a histogram for each numeric feature in a dataset on bike rentals: \n"
   ]
  },
  {
   "cell_type": "code",
   "execution_count": 41,
   "id": "12b867e1",
   "metadata": {},
   "outputs": [
    {
     "name": "stdout",
     "output_type": "stream",
     "text": [
      "--2022-07-04 11:30:17--  https://raw.githubusercontent.com/MicrosoftDocs/mslearn-introduction-to-machine-learning/main/Data/ml-basics/daily-bike-share.csv\n",
      "Resolving raw.githubusercontent.com (raw.githubusercontent.com)... 185.199.110.133, 185.199.108.133, 185.199.109.133, ...\n",
      "Connecting to raw.githubusercontent.com (raw.githubusercontent.com)|185.199.110.133|:443... connected.\n",
      "HTTP request sent, awaiting response... 200 OK\n",
      "Length: 48800 (48K) [text/plain]\n",
      "Saving to: 'daily-bike-share.csv.5'\n",
      "\n",
      "daily-bike-share.cs 100%[===================>]  47.66K  --.-KB/s    in 0.01s   \n",
      "\n",
      "2022-07-04 11:30:17 (3.41 MB/s) - 'daily-bike-share.csv.5' saved [48800/48800]\n",
      "\n"
     ]
    }
   ],
   "source": [
    "# load the training dataset\n",
    "!wget https://raw.githubusercontent.com/MicrosoftDocs/mslearn-introduction-to-machine-learning/main/Data/ml-basics/daily-bike-share.csv;\n",
    "bike_data = pd.read_csv('daily-bike-share.csv')"
   ]
  },
  {
   "cell_type": "code",
   "execution_count": 42,
   "id": "1f08c84f",
   "metadata": {},
   "outputs": [
    {
     "data": {
      "image/png": "[encoded data removed]",
      "text/plain": [
       "<Figure size 648x432 with 1 Axes>"
      ]
     },
     "metadata": {
      "needs_background": "light"
     },
     "output_type": "display_data"
    },
    {
     "data": {
      "image/png": "[encoded data removed]",
      "text/plain": [
       "<Figure size 648x432 with 1 Axes>"
      ]
     },
     "metadata": {
      "needs_background": "light"
     },
     "output_type": "display_data"
    },
    {
     "data": {
      "image/png": "[encoded data removed]",
      "text/plain": [
       "<Figure size 648x432 with 1 Axes>"
      ]
     },
     "metadata": {
      "needs_background": "light"
     },
     "output_type": "display_data"
    },
    {
     "data": {
      "image/png": "[encoded data removed]",
      "text/plain": [
       "<Figure size 648x432 with 1 Axes>"
      ]
     },
     "metadata": {
      "needs_background": "light"
     },
     "output_type": "display_data"
    }
   ],
   "source": [
    "# Plot a histogram for each numeric feature\n",
    "numeric_features = ['temp', 'atemp', 'hum', 'windspeed']\n",
    "for col in numeric_features:\n",
    "    # Setting figure dimensions\n",
    "    fig = plt.figure(figsize=(9, 6))\n",
    "    # Creating the axis lines\n",
    "    ax = fig.gca()\n",
    "    # Creating an array for each feature\n",
    "    feature = bike_data[col]\n",
    "    # Setting histogram bins\n",
    "    feature.hist(bins=100, ax = ax)\n",
    "    # Creating an axis line for the mean\n",
    "    ax.axvline(feature.mean(), color='magenta', linestyle='dashed', linewidth=2)\n",
    "    # Creating an axis line for the median\n",
    "    ax.axvline(feature.median(), color='cyan', linestyle='dashed', linewidth=2)\n",
    "    # Setting the title to the column name \n",
    "    ax.set_title(col)\n",
    "# Showing each plot\n",
    "plt.show()"
   ]
  },
  {
   "cell_type": "markdown",
   "id": "e28f8a53",
   "metadata": {},
   "source": [
    "Boxplots are also very helpful for showing \"quick and dirty\" distributions for columns, especially when used to compare numerical columns based on groupings of categorical features: "
   ]
  },
  {
   "cell_type": "code",
   "execution_count": 43,
   "id": "38ce0a14",
   "metadata": {},
   "outputs": [
    {
     "data": {
      "image/png": "[encoded data removed]",
      "text/plain": [
       "<Figure size 648x432 with 1 Axes>"
      ]
     },
     "metadata": {
      "needs_background": "light"
     },
     "output_type": "display_data"
    },
    {
     "data": {
      "image/png": "[encoded data removed]",
      "text/plain": [
       "<Figure size 648x432 with 1 Axes>"
      ]
     },
     "metadata": {
      "needs_background": "light"
     },
     "output_type": "display_data"
    },
    {
     "data": {
      "image/png": "[encoded data removed]",
      "text/plain": [
       "<Figure size 648x432 with 1 Axes>"
      ]
     },
     "metadata": {
      "needs_background": "light"
     },
     "output_type": "display_data"
    },
    {
     "data": {
      "image/png": "[encoded data removed]",
      "text/plain": [
       "<Figure size 648x432 with 1 Axes>"
      ]
     },
     "metadata": {
      "needs_background": "light"
     },
     "output_type": "display_data"
    },
    {
     "data": {
      "image/png": "[encoded data removed]",
      "text/plain": [
       "<Figure size 648x432 with 1 Axes>"
      ]
     },
     "metadata": {
      "needs_background": "light"
     },
     "output_type": "display_data"
    },
    {
     "data": {
      "image/png": "[encoded data removed]",
      "text/plain": [
       "<Figure size 648x432 with 1 Axes>"
      ]
     },
     "metadata": {
      "needs_background": "light"
     },
     "output_type": "display_data"
    }
   ],
   "source": [
    "# Creating a list of categorical features\n",
    "categorical_features = ['season','mnth','holiday','weekday','workingday','weathersit']\n",
    "# plot a boxplot for the label by each categorical feature\n",
    "for col in categorical_features:\n",
    "    # Setting figure dimensions\n",
    "    fig = plt.figure(figsize=(9, 6))\n",
    "    # Setting the figure grid\n",
    "    ax = fig.gca()\n",
    "    # Creating the boxplot \n",
    "    bike_data.boxplot(column = 'rentals', by = col, ax = ax)\n",
    "    # Setting the title by column\n",
    "    ax.set_title('Label by ' + col)\n",
    "    # Setting the y label\n",
    "    ax.set_ylabel(\"Bike Rentals\")\n",
    "# Showing the plots\n",
    "plt.show()"
   ]
  },
  {
   "cell_type": "markdown",
   "id": "98f61ec0",
   "metadata": {},
   "source": [
    "*This is a great example of a visualization that immediately shows you which categorical variables might be helpful for predicting bike rentals!*"
   ]
  },
  {
   "cell_type": "markdown",
   "id": "fc3d1f76",
   "metadata": {},
   "source": [
    "### Create functions to repeat data visualizations quickly and consistently \n",
    "\n",
    "Remember how python is object-oriented, so you should be packaging your code into functions and classes whenever possible? \n",
    "\n",
    "Once you've gotten a sense of your data, you'll save time by creating functions that allow you to apply scripts and visualize in a repeated process. For example, see the following function show_distribution: "
   ]
  },
  {
   "cell_type": "code",
   "execution_count": 60,
   "id": "bc5c2d36",
   "metadata": {},
   "outputs": [
    {
     "name": "stderr",
     "output_type": "stream",
     "text": [
      "/var/folders/x3/d55ycfh10xl3qzrrp818k8xw0000gn/T/ipykernel_54304/2616842270.py:49: UserWarning: Matplotlib is currently using module://matplotlib_inline.backend_inline, which is a non-GUI backend, so cannot show the figure.\n",
      "  fig.show()\n"
     ]
    },
    {
     "data": {
      "image/png": "[encoded data removed]",
      "text/plain": [
       "<Figure size 720x288 with 2 Axes>"
      ]
     },
     "metadata": {
      "needs_background": "light"
     },
     "output_type": "display_data"
    }
   ],
   "source": [
    "# Create a function that we can re-use\n",
    "def show_distribution(var_data: pd.Series, title:str) -> None:\n",
    "    \"\"\"\n",
    "    Show_distributions shows a histogram and boxplot when given an array of numerical data (including as a column in a Pandas dataframe)\n",
    "    \n",
    "    Arguments: \n",
    "    ------\n",
    "    var_data: Pandas Series \n",
    "        A column in a Pandas dataframe\n",
    "        \n",
    "    Returns: \n",
    "    ------\n",
    "    None\n",
    "        Shows figure in the console\n",
    "\n",
    "    \"\"\"\n",
    "    from matplotlib import pyplot as plt\n",
    "\n",
    "    # Geting relevant statistics on the array in question\n",
    "    min_val = var_data.min()\n",
    "    max_val = var_data.max()\n",
    "    mean_val = var_data.mean()\n",
    "    med_val = var_data.median()\n",
    "    mod_val = var_data.mode()[0]\n",
    "\n",
    "    #print('Minimum:{:.2f}\\nMean:{:.2f}\\nMedian:{:.2f}\\nMode:{:.2f}\\nMaximum:{:.2f}\\n'.format(min_val,mean_val,med_val,max_val)  \n",
    "    # Create a figure for 2 subplots (2 rows, 1 column)\n",
    "    fig, ax = plt.subplots(2, 1, figsize = (10,4))\n",
    "\n",
    "    # Plot the histogram   \n",
    "    ax[0].hist(var_data)\n",
    "    ax[0].set_ylabel('Frequency')\n",
    "\n",
    "    # Add lines for the mean, median, and mode\n",
    "    ax[0].axvline(x=min_val, color = 'gray', linestyle='dashed', linewidth = 2)\n",
    "    ax[0].axvline(x=mean_val, color = 'cyan', linestyle='dashed', linewidth = 2)\n",
    "    ax[0].axvline(x=med_val, color = 'red', linestyle='dashed', linewidth = 2)\n",
    "    ax[0].axvline(x=mod_val, color = 'yellow', linestyle='dashed', linewidth = 2)\n",
    "    ax[0].axvline(x=max_val, color = 'gray', linestyle='dashed', linewidth = 2)\n",
    "\n",
    "    # Plot the boxplot   \n",
    "    ax[1].boxplot(var_data, vert=False)\n",
    "    ax[1].set_xlabel('Value')\n",
    "\n",
    "    # Add a title to the Figure\n",
    "    fig.suptitle(title)\n",
    "\n",
    "    # Show the figure\n",
    "    fig.show()\n",
    "\n",
    "# Get the variable to examine\n",
    "col = bike_data[\"rentals\"]\n",
    "# Call the function\n",
    "show_distribution(col, \"Bike Data Rentals per day\")"
   ]
  },
  {
   "cell_type": "markdown",
   "id": "5ccd5824",
   "metadata": {},
   "source": [
    "With a function like this, it's easy to re-run visualizations on subsets of the data, or other columns. For example, suppose you wanted to see results for students who studied for at least 1 hour:"
   ]
  },
  {
   "cell_type": "code",
   "execution_count": 63,
   "id": "9a7e2a18",
   "metadata": {},
   "outputs": [
    {
     "name": "stderr",
     "output_type": "stream",
     "text": [
      "/var/folders/x3/d55ycfh10xl3qzrrp818k8xw0000gn/T/ipykernel_54304/2616842270.py:49: UserWarning: Matplotlib is currently using module://matplotlib_inline.backend_inline, which is a non-GUI backend, so cannot show the figure.\n",
      "  fig.show()\n"
     ]
    },
    {
     "data": {
      "image/png": "[encoded data removed]",
      "text/plain": [
       "<Figure size 720x288 with 2 Axes>"
      ]
     },
     "metadata": {
      "needs_background": "light"
     },
     "output_type": "display_data"
    }
   ],
   "source": [
    "# Subsetting the data on StudyHours greater than 1 hour\n",
    "col = df_students[df_students.StudyHours>1]['StudyHours']\n",
    "# Showing the distribution\n",
    "show_distribution(col, \"Study hours (for Students who Studied)\")"
   ]
  },
  {
   "cell_type": "markdown",
   "id": "975f60c7",
   "metadata": {},
   "source": [
    "## Exercise: Check out the Matplot Gallery\n",
    "\n",
    "If you worked through this notebook, you will have completed some basic visualizations already. Go to this Matplot gallery and imitate a few more, based on what you think might be helpful for understanding the dataset you've chosen: \n",
    "\n",
    "#### [Matplotlib Gallery](https://matplotlib.org/stable/gallery/index.html)"
   ]
  },
  {
   "cell_type": "markdown",
   "id": "3971be95",
   "metadata": {},
   "source": [
    "#### Sources \n",
    "\n",
    "This notebook draws partially from examples in Azure's Data Science certification track. For more information, see this [link](https://docs.microsoft.com/en-us/learn/certifications/azure-data-scientist/). "
   ]
  },
  {
   "cell_type": "code",
   "execution_count": null,
   "id": "2c44128c",
   "metadata": {},
   "outputs": [],
   "source": []
  },
  {
   "cell_type": "code",
   "execution_count": null,
   "id": "84319563",
   "metadata": {},
   "outputs": [],
   "source": []
  },
  {
   "cell_type": "code",
   "execution_count": null,
   "id": "ccb79889",
   "metadata": {},
   "outputs": [],
   "source": []
  }
 ],
 "metadata": {
  "kernelspec": {
   "display_name": "Python 3 (ipykernel)",
   "language": "python",
   "name": "python3"
  },
  "language_info": {
   "codemirror_mode": {
    "name": "ipython",
    "version": 3
   },
   "file_extension": ".py",
   "mimetype": "text/x-python",
   "name": "python",
   "nbconvert_exporter": "python",
   "pygments_lexer": "ipython3",
   "version": "3.9.12"
  }
 },
 "nbformat": 4,
 "nbformat_minor": 5
}
